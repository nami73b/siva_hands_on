{
 "cells": [
  {
   "cell_type": "markdown",
   "metadata": {},
   "source": [
    "# SIVA(シヴァ)AI競馬開発エンジニアによる「競馬で始める機械学習」ハンズオン\n",
    "\n",
    "## 目標\n",
    "    機械学習で競馬を予測するAIを作り、本日開催の競馬の予測を行う。\n",
    "\n",
    "## 本日の流れ\n",
    "    1- 必要ライブラリの読み込み\n",
    "    2- データの読み込み\n",
    "    3- 前処理\n",
    "    4- 予測アルゴリズムの構築\n",
    "    5- 本日の競馬の予測\n",
    "\n"
   ]
  },
  {
   "cell_type": "markdown",
   "metadata": {},
   "source": [
    "## 1- 必要ライブラリの読み込み"
   ]
  },
  {
   "cell_type": "code",
   "execution_count": 1,
   "metadata": {},
   "outputs": [
    {
     "name": "stderr",
     "output_type": "stream",
     "text": [
      "/Users/yuta_miyawaki/.pyenv/versions/anaconda3-5.1.0/lib/python3.6/site-packages/h5py/__init__.py:36: FutureWarning: Conversion of the second argument of issubdtype from `float` to `np.floating` is deprecated. In future, it will be treated as `np.float64 == np.dtype(float).type`.\n",
      "  from ._conv import register_converters as _register_converters\n",
      "Using TensorFlow backend.\n"
     ]
    }
   ],
   "source": [
    "import pandas as pd\n",
    "\n",
    "from sklearn.model_selection import train_test_split\n",
    "from sklearn.preprocessing import scale\n",
    "from sklearn.ensemble import RandomForestClassifier\n",
    "from sklearn.ensemble import RandomForestRegressor\n",
    "\n",
    "from keras.utils.np_utils import to_categorical\n",
    "from keras.layers import Activation,Dense\n",
    "from keras.models import Sequential\n",
    "\n",
    "from keras.layers.normalization import BatchNormalization\n",
    "\n",
    "import util as ut\n",
    "\n",
    "import warnings\n",
    "warnings.filterwarnings('ignore')"
   ]
  },
  {
   "cell_type": "markdown",
   "metadata": {},
   "source": [
    "## 2- データの読み込み\n",
    "    2016年~2018年の3年分の過去データ(data_horse_race.csv)を読み込む"
   ]
  },
  {
   "cell_type": "code",
   "execution_count": 2,
   "metadata": {},
   "outputs": [],
   "source": [
    "df = pd.read_csv('data/data_horse_race.csv')"
   ]
  },
  {
   "cell_type": "code",
   "execution_count": 3,
   "metadata": {},
   "outputs": [
    {
     "name": "stdout",
     "output_type": "stream",
     "text": [
      "開催年 : 2016\n",
      "開催日付 : 105\n",
      "競馬場コード : 6\n",
      "開催回次 : 1\n",
      "開催日目 : 1\n",
      "レース番号 : 1\n",
      "枠番 : 1\n",
      "馬番 : 1\n",
      "血統番号 : 2013105621\n",
      "馬名 : プロジェクション\n",
      "性別 : 2\n",
      "毛色コード : 3\n",
      "馬齢 : 3\n",
      "東西所属コード : 1\n",
      "調教師コード : 353\n",
      "斤量 : 540\n",
      "ブリンカー仕様区分 : 0\n",
      "騎手コード : 1131\n",
      "騎手見習いコード : 0\n",
      "馬体重 : 472\n",
      "増減符号 : -\n",
      "増減差 : 2\n",
      "着順 : 16\n",
      "走破タイム : 1161\n",
      "単勝オッズ : 1905\n",
      "単勝人気 : 14\n",
      "着差 : 29\n",
      "グレードコード : nan\n",
      "競争種別コード : 12\n",
      "重量種別コード : 3\n",
      "競争条件コード : 703\n",
      "距離 : 1200\n",
      "芝ダート : d\n",
      "回り方向 : R\n",
      "コース区分 : nan\n",
      "本賞金 : 50000\n",
      "出走頭数 : 16\n",
      "天気コード : 1\n",
      "芝馬場 : 0\n",
      "ダート馬場 : 1\n",
      "開催年_1走前 : 2015.0\n",
      "開催日付_1走前 : 1114.0\n",
      "競馬場コード_1走前 : 3.0\n",
      "馬番_1走前 : 11.0\n",
      "斤量_1走前 : 530.0\n",
      "ブリンカー仕様区分_1走前 : 0.0\n",
      "騎手コード_1走前 : 1154.0\n",
      "騎手名_1走前 : 松若風馬\n",
      "馬体重_1走前 : 474.0\n",
      "異常区分コード_1走前 : 0.0\n",
      "着順_1走前 : 14.0\n",
      "1コーナー順位_1走前 : 0.0\n",
      "2コーナー順位_1走前 : 0.0\n",
      "3コーナー順位_1走前 : 9.0\n",
      "4コーナー順位_1走前 : 10.0\n",
      "単勝オッズ_1走前 : 290.0\n",
      "単勝人気_1走前 : 8.0\n",
      "ラスト3Fタイム_1走前 : 400.0\n",
      "着差_1走前 : 29.0\n",
      "グレードコード_1走前 : nan\n",
      "競争種別コード_1走前 : 11.0\n",
      "重量種別コード_1走前 : 3.0\n",
      "距離_1走前 : 1150.0\n",
      "芝ダート_1走前 : d\n",
      "回り方向_1走前 : R\n",
      "競争条件コード_1走前 : 703.0\n",
      "コース区分_1走前 : nan\n",
      "本賞金_1走前 : 50000.0\n",
      "出走頭数_1走前 : 16.0\n",
      "天気コード_1走前 : 3.0\n",
      "芝馬場_1走前 : 0.0\n",
      "ダート馬場_1走前 : 2.0\n",
      "開催年_2走前 : 2015.0\n",
      "開催日付_2走前 : 913.0\n",
      "競馬場コード_2走前 : 6.0\n",
      "馬番_2走前 : 4.0\n",
      "斤量_2走前 : 540.0\n",
      "ブリンカー仕様区分_2走前 : 0.0\n",
      "騎手コード_2走前 : 1122.0\n",
      "騎手名_2走前 : 三浦皇成\n",
      "馬体重_2走前 : 466.0\n",
      "異常区分コード_2走前 : 0.0\n",
      "着順_2走前 : 15.0\n",
      "1コーナー順位_2走前 : 0.0\n",
      "2コーナー順位_2走前 : 1.0\n",
      "3コーナー順位_2走前 : 1.0\n",
      "4コーナー順位_2走前 : 1.0\n",
      "単勝オッズ_2走前 : 89.0\n",
      "単勝人気_2走前 : 4.0\n",
      "ラスト3Fタイム_2走前 : 392.0\n",
      "着差_2走前 : 33.0\n",
      "グレードコード_2走前 : nan\n",
      "競争種別コード_2走前 : 11.0\n",
      "重量種別コード_2走前 : 3.0\n",
      "距離_2走前 : 1600.0\n",
      "芝ダート_2走前 : s\n",
      "回り方向_2走前 : R\n",
      "競争条件コード_2走前 : 701.0\n",
      "コース区分_2走前 : B\n",
      "本賞金_2走前 : 70000.0\n",
      "出走頭数_2走前 : 16.0\n",
      "天気コード_2走前 : 2.0\n",
      "芝馬場_2走前 : 1.0\n",
      "ダート馬場_2走前 : 0.0\n",
      "開催年_3走前 : nan\n",
      "開催日付_3走前 : nan\n",
      "競馬場コード_3走前 : nan\n",
      "馬番_3走前 : nan\n",
      "斤量_3走前 : nan\n",
      "ブリンカー仕様区分_3走前 : nan\n",
      "騎手コード_3走前 : nan\n",
      "騎手名_3走前 : nan\n",
      "馬体重_3走前 : nan\n",
      "異常区分コード_3走前 : nan\n",
      "着順_3走前 : nan\n",
      "1コーナー順位_3走前 : nan\n",
      "2コーナー順位_3走前 : nan\n",
      "3コーナー順位_3走前 : nan\n",
      "4コーナー順位_3走前 : nan\n",
      "単勝オッズ_3走前 : nan\n",
      "単勝人気_3走前 : nan\n",
      "ラスト3Fタイム_3走前 : nan\n",
      "着差_3走前 : nan\n",
      "グレードコード_3走前 : nan\n",
      "競争種別コード_3走前 : nan\n",
      "重量種別コード_3走前 : nan\n",
      "距離_3走前 : nan\n",
      "芝ダート_3走前 : nan\n",
      "回り方向_3走前 : nan\n",
      "競争条件コード_3走前 : nan\n",
      "コース区分_3走前 : nan\n",
      "本賞金_3走前 : nan\n",
      "出走頭数_3走前 : nan\n",
      "天気コード_3走前 : nan\n",
      "芝馬場_3走前 : nan\n",
      "ダート馬場_3走前 : nan\n",
      "過去発走回数 : 2\n",
      "過去1着回数 : 0\n",
      "過去2着回数 : 0\n",
      "過去3着回数 : 0\n",
      "過去4着以下回数 : 2\n",
      "内枠回数 : 1\n",
      "中枠回数 : 1\n",
      "外枠回数 : 0\n",
      "内枠1着内回数 : 0\n",
      "中枠1着内回数 : 0\n",
      "外枠1着内回数 : 0\n",
      "内枠3着内回数 : 0\n",
      "中枠3着内回数 : 0\n",
      "外枠3着内回数 : 0\n",
      "同騎手回数 : 0\n",
      "同騎手1着回数 : 0\n",
      "同騎手3着内回数 : 0\n",
      "今回競馬場経験数 : 1\n",
      "今回距離1着回数 : 0\n",
      "今回距離3着内回数 : 0\n",
      "今回斤量経験回数 : 1\n",
      "今回グレード経験数 : 2\n",
      "短距離経験回数 : 1\n",
      "マイル経験回数 : 1\n",
      "中距離経験回数 : 0\n",
      "長距離経験回数 : 2\n"
     ]
    }
   ],
   "source": [
    "for c in df.columns:\n",
    "    print(c,':',df.iloc[0][c])"
   ]
  },
  {
   "cell_type": "markdown",
   "metadata": {},
   "source": [
    "## 3- 前処理\n",
    "    ・不要ファクタの削除\n",
    "    ・カテゴリカルデータのone-hot値化"
   ]
  },
  {
   "cell_type": "markdown",
   "metadata": {},
   "source": [
    "### ラベルデータの作成\n",
    "    今回ラベルは[3着以下,3着以上]と設定する"
   ]
  },
  {
   "cell_type": "code",
   "execution_count": 4,
   "metadata": {},
   "outputs": [],
   "source": [
    "#着順データを抽出する\n",
    "target_data = df['着順']"
   ]
  },
  {
   "cell_type": "code",
   "execution_count": 5,
   "metadata": {
    "scrolled": true
   },
   "outputs": [
    {
     "data": {
      "text/plain": [
       "0     16\n",
       "1     10\n",
       "2     14\n",
       "3      8\n",
       "4      5\n",
       "5     12\n",
       "6      6\n",
       "7     15\n",
       "8      4\n",
       "9      9\n",
       "10     2\n",
       "11     1\n",
       "12     3\n",
       "13     7\n",
       "14    11\n",
       "Name: 着順, dtype: int64"
      ]
     },
     "execution_count": 5,
     "metadata": {},
     "output_type": "execute_result"
    }
   ],
   "source": [
    "target_data[:15]"
   ]
  },
  {
   "cell_type": "code",
   "execution_count": 6,
   "metadata": {
    "scrolled": true
   },
   "outputs": [],
   "source": [
    "#着順がN着以内であれば1,3着以上であれば0に変換\n",
    "\n",
    "#分類分けの閾値を設定\n",
    "limit_order = 3\n",
    "\n",
    "target_data = target_data.apply(lambda x:1 if x <= limit_order else 0)"
   ]
  },
  {
   "cell_type": "code",
   "execution_count": 7,
   "metadata": {
    "scrolled": true
   },
   "outputs": [
    {
     "data": {
      "text/plain": [
       "0     0\n",
       "1     0\n",
       "2     0\n",
       "3     0\n",
       "4     0\n",
       "5     0\n",
       "6     0\n",
       "7     0\n",
       "8     0\n",
       "9     0\n",
       "10    1\n",
       "11    1\n",
       "12    1\n",
       "13    0\n",
       "14    0\n",
       "Name: 着順, dtype: int64"
      ]
     },
     "execution_count": 7,
     "metadata": {},
     "output_type": "execute_result"
    }
   ],
   "source": [
    "target_data[:15]"
   ]
  },
  {
   "cell_type": "markdown",
   "metadata": {},
   "source": [
    "### 不要カラムを削除"
   ]
  },
  {
   "cell_type": "code",
   "execution_count": 60,
   "metadata": {},
   "outputs": [],
   "source": [
    "#カスタマイズ用前処理プログラム\n",
    "def preprocessing(df):\n",
    "    #make_yourself!!\n",
    "    return df"
   ]
  },
  {
   "cell_type": "code",
   "execution_count": 61,
   "metadata": {},
   "outputs": [],
   "source": [
    "df = preprocessing(df)"
   ]
  },
  {
   "cell_type": "code",
   "execution_count": 8,
   "metadata": {},
   "outputs": [],
   "source": [
    "def drop_columns(df):\n",
    "    #不要カラムのリストを作成しまとめて削除する\n",
    "    drop_columns_list = []\n",
    "\n",
    "    #馬を特定する情報を削除\n",
    "    drop_columns_list.extend(['血統番号','馬名'])\n",
    "\n",
    "    #レース前にわからないデータを削除リストに追加\n",
    "    drop_columns_list.extend(['着順','走破タイム','着差'])\n",
    "\n",
    "    #カテゴリデータであり種類が多いため、取捨選択をよく考える必要がある\n",
    "    drop_columns_list.extend(['調教師コード','騎手コード'])\n",
    "\n",
    "    pre_col = ['騎手名','騎手コード']\n",
    "    for i in range(1,4):\n",
    "        for c in pre_col:\n",
    "            drop_columns_list.append(c + '_'+str(i)+'走前')\n",
    "\n",
    "    #直前発表データのため今回は不使用\n",
    "    drop_columns_list.extend(['天気コード','芝馬場','ダート馬場','馬体重','増減符号','増減差'])\n",
    "\n",
    "    df = df.drop(drop_columns_list,axis = 1)\n",
    "    \n",
    "    return df"
   ]
  },
  {
   "cell_type": "code",
   "execution_count": 9,
   "metadata": {},
   "outputs": [],
   "source": [
    "df = drop_columns(df)"
   ]
  },
  {
   "cell_type": "markdown",
   "metadata": {},
   "source": [
    "### カテゴリカル変数をone-hot値に変更する"
   ]
  },
  {
   "cell_type": "code",
   "execution_count": 10,
   "metadata": {},
   "outputs": [],
   "source": [
    "def to_onehot(df):\n",
    "    #カテゴリカル変数のリストを作成しまとめて削除する\n",
    "    dummies_columns_list = []\n",
    "\n",
    "    dummies_columns_list.extend(['競馬場コード','性別','毛色コード','東西所属コード',\n",
    "                            'ブリンカー仕様区分','グレードコード','競争種別コード','重量種別コード',\n",
    "                            '競争条件コード','芝ダート','回り方向','コース区分'])\n",
    "\n",
    "    #過去3走分データのカテゴリカル変数\n",
    "    pre_col = ['競馬場コード', 'ブリンカー仕様区分','異常区分コード','グレードコード'\n",
    "               ,'競争種別コード','重量種別コード','競争条件コード','芝ダート'\n",
    "               ,'回り方向','コース区分','天気コード','芝馬場','ダート馬場',]\n",
    "    for i in range(1,4):\n",
    "        for c in pre_col:\n",
    "            dummies_columns_list.append(c + '_'+str(i)+'走前')\n",
    "\n",
    "    df = pd.get_dummies(data = df,columns = dummies_columns_list)\n",
    "    \n",
    "    return df"
   ]
  },
  {
   "cell_type": "code",
   "execution_count": 11,
   "metadata": {},
   "outputs": [],
   "source": [
    "df = to_onehot(df)"
   ]
  },
  {
   "cell_type": "markdown",
   "metadata": {},
   "source": [
    "### 空値をカラムの[0,中央値,平均値]などで埋める"
   ]
  },
  {
   "cell_type": "code",
   "execution_count": 12,
   "metadata": {},
   "outputs": [],
   "source": [
    "def fill_nan(df):\n",
    "    #空値を0で埋める\n",
    "    df = df.fillna(0)\n",
    "\n",
    "    #空値を中央値で埋める\n",
    "    #df = df.fillna(df.median())\n",
    "\n",
    "    #空値を平均値で埋める\n",
    "    #df = df.fillna(df.mean())\n",
    "    \n",
    "    return df"
   ]
  },
  {
   "cell_type": "code",
   "execution_count": 13,
   "metadata": {},
   "outputs": [],
   "source": [
    "df = fill_nan(df)"
   ]
  },
  {
   "cell_type": "markdown",
   "metadata": {},
   "source": [
    "### 数値を正規化する(ニューラルネットの場合)"
   ]
  },
  {
   "cell_type": "code",
   "execution_count": 14,
   "metadata": {},
   "outputs": [],
   "source": [
    "def normalize(df):\n",
    "    for c in df.columns:\n",
    "        df[c] = scale(df[c].astype('float'))\n",
    "\n",
    "    return df"
   ]
  },
  {
   "cell_type": "code",
   "execution_count": 15,
   "metadata": {},
   "outputs": [],
   "source": [
    "df = normalize(df)"
   ]
  },
  {
   "cell_type": "markdown",
   "metadata": {},
   "source": [
    "### 予測用データの作成"
   ]
  },
  {
   "cell_type": "code",
   "execution_count": 16,
   "metadata": {},
   "outputs": [],
   "source": [
    "#numpy配列に変換\n",
    "x = df.values\n",
    "y = target_data.values"
   ]
  },
  {
   "cell_type": "markdown",
   "metadata": {},
   "source": [
    "### 訓練とテストにデータを分ける\n",
    "    分割割合はtest_sizeで指定"
   ]
  },
  {
   "cell_type": "code",
   "execution_count": 17,
   "metadata": {},
   "outputs": [],
   "source": [
    "data_train , data_test , target_train , target_test = train_test_split(x,y,test_size=0.2)"
   ]
  },
  {
   "cell_type": "markdown",
   "metadata": {},
   "source": [
    "## 4- 予測アルゴリズムの構築と精度検証"
   ]
  },
  {
   "cell_type": "markdown",
   "metadata": {},
   "source": [
    "### ランダムフォレスト(分類)"
   ]
  },
  {
   "cell_type": "code",
   "execution_count": 18,
   "metadata": {},
   "outputs": [
    {
     "data": {
      "text/plain": [
       "RandomForestClassifier(bootstrap=True, class_weight=None, criterion='gini',\n",
       "            max_depth=None, max_features='auto', max_leaf_nodes=None,\n",
       "            min_impurity_decrease=0.0, min_impurity_split=None,\n",
       "            min_samples_leaf=3, min_samples_split=2,\n",
       "            min_weight_fraction_leaf=0.0, n_estimators=10, n_jobs=1,\n",
       "            oob_score=False, random_state=0, verbose=0, warm_start=False)"
      ]
     },
     "execution_count": 18,
     "metadata": {},
     "output_type": "execute_result"
    }
   ],
   "source": [
    "forest_classifier = RandomForestClassifier(min_samples_leaf=3, random_state=0)\n",
    "forest_classifier.fit(data_train, target_train)"
   ]
  },
  {
   "cell_type": "code",
   "execution_count": 19,
   "metadata": {},
   "outputs": [
    {
     "name": "stdout",
     "output_type": "stream",
     "text": [
      "Train score: 0.933055650979045\n",
      "Test score: 0.8028683069260166\n"
     ]
    }
   ],
   "source": [
    "print('Train score: {}'.format(forest_classifier.score(data_train, target_train)))\n",
    "print('Test score: {}'.format(forest_classifier.score(data_test, target_test)))"
   ]
  },
  {
   "cell_type": "code",
   "execution_count": 20,
   "metadata": {},
   "outputs": [
    {
     "name": "stdout",
     "output_type": "stream",
     "text": [
      "target :  0 predict :  0\n",
      "target :  1 predict :  1\n",
      "target :  0 predict :  0\n",
      "target :  0 predict :  0\n",
      "target :  0 predict :  0\n",
      "target :  0 predict :  0\n",
      "target :  0 predict :  0\n",
      "target :  0 predict :  0\n",
      "target :  1 predict :  0\n",
      "target :  0 predict :  0\n"
     ]
    }
   ],
   "source": [
    "#テストデータの内10件の予測結果\n",
    "output = forest_classifier.predict(data_test)\n",
    "for (t,o) in zip(target_test[:10],output[:10]):\n",
    "    print('target : ',t,'predict : ',o)"
   ]
  },
  {
   "cell_type": "markdown",
   "metadata": {},
   "source": [
    "### ランダムフォレスト (回帰)"
   ]
  },
  {
   "cell_type": "code",
   "execution_count": 43,
   "metadata": {},
   "outputs": [
    {
     "data": {
      "text/plain": [
       "RandomForestRegressor(bootstrap=True, criterion='mse', max_depth=None,\n",
       "           max_features='auto', max_leaf_nodes=None,\n",
       "           min_impurity_decrease=0.0, min_impurity_split=None,\n",
       "           min_samples_leaf=3, min_samples_split=2,\n",
       "           min_weight_fraction_leaf=0.0, n_estimators=10, n_jobs=1,\n",
       "           oob_score=False, random_state=0, verbose=0, warm_start=False)"
      ]
     },
     "execution_count": 43,
     "metadata": {},
     "output_type": "execute_result"
    }
   ],
   "source": [
    "forest_regressor = RandomForestRegressor(min_samples_leaf=3, random_state=0)\n",
    "forest_regressor.fit(data_train, target_train)"
   ]
  },
  {
   "cell_type": "code",
   "execution_count": 44,
   "metadata": {},
   "outputs": [
    {
     "name": "stdout",
     "output_type": "stream",
     "text": [
      "Train score: 0.7385313718248465\n",
      "Test score: 0.16431632872984578\n"
     ]
    }
   ],
   "source": [
    "print('Train score: {}'.format(forest_regressor.score(data_train, target_train)))\n",
    "print('Test score: {}'.format(forest_regressor.score(data_test, target_test)))"
   ]
  },
  {
   "cell_type": "code",
   "execution_count": 45,
   "metadata": {},
   "outputs": [
    {
     "name": "stdout",
     "output_type": "stream",
     "text": [
      "target :  [1. 0.] predict :  [0.9 0.1]\n",
      "target :  [0. 1.] predict :  [0.44142857 0.55857143]\n",
      "target :  [1. 0.] predict :  [0.96666667 0.03333333]\n",
      "target :  [1. 0.] predict :  [0.85333333 0.14666667]\n",
      "target :  [1. 0.] predict :  [0.75 0.25]\n",
      "target :  [1. 0.] predict :  [0.6 0.4]\n",
      "target :  [1. 0.] predict :  [0.63134921 0.36865079]\n",
      "target :  [1. 0.] predict :  [0.9 0.1]\n",
      "target :  [0. 1.] predict :  [0.55 0.45]\n",
      "target :  [1. 0.] predict :  [0.78333333 0.21666667]\n"
     ]
    }
   ],
   "source": [
    "#テストデータの内10件の予測結果\n",
    "output = forest_regressor.predict(data_test)\n",
    "for (t,o) in zip(target_test[:10],output[:10]):\n",
    "    print('target : ',t,'predict : ',o)"
   ]
  },
  {
   "cell_type": "markdown",
   "metadata": {},
   "source": [
    "### ニューラルネット"
   ]
  },
  {
   "cell_type": "code",
   "execution_count": 22,
   "metadata": {},
   "outputs": [],
   "source": [
    "model = Sequential()\n",
    "model.add(Dense(400, input_dim=len(x[0])))\n",
    "model.add(Activation('relu'))\n",
    "model.add(BatchNormalization())\n",
    "model.add(Dense(300))\n",
    "model.add(Activation('relu'))\n",
    "model.add(BatchNormalization())\n",
    "model.add(Dense(200))\n",
    "model.add(Activation('relu'))\n",
    "model.add(BatchNormalization())\n",
    "\n",
    "model.add(Dense(2))\n",
    "model.add(Activation('softmax'))\n",
    "model.compile(loss='binary_crossentropy',\n",
    "              optimizer='adam',\n",
    "              metrics=['accuracy'])"
   ]
  },
  {
   "cell_type": "code",
   "execution_count": 23,
   "metadata": {},
   "outputs": [],
   "source": [
    "target_train = to_categorical(target_train)\n",
    "target_test = to_categorical(target_test)"
   ]
  },
  {
   "cell_type": "code",
   "execution_count": 24,
   "metadata": {},
   "outputs": [
    {
     "name": "stdout",
     "output_type": "stream",
     "text": [
      "Train on 93152 samples, validate on 23289 samples\n",
      "Epoch 1/5\n",
      "93152/93152 [==============================] - 9s 98us/step - loss: 0.4619 - acc: 0.7810 - val_loss: 0.4289 - val_acc: 0.7968\n",
      "Epoch 2/5\n",
      "93152/93152 [==============================] - 9s 91us/step - loss: 0.4171 - acc: 0.8049 - val_loss: 0.4176 - val_acc: 0.8066\n",
      "Epoch 3/5\n",
      "93152/93152 [==============================] - 9s 98us/step - loss: 0.4102 - acc: 0.8092 - val_loss: 0.4214 - val_acc: 0.8066\n",
      "Epoch 4/5\n",
      "93152/93152 [==============================] - 9s 96us/step - loss: 0.4050 - acc: 0.8125 - val_loss: 0.4179 - val_acc: 0.8100\n",
      "Epoch 5/5\n",
      "93152/93152 [==============================] - 8s 90us/step - loss: 0.3988 - acc: 0.8160 - val_loss: 0.4278 - val_acc: 0.8042\n"
     ]
    },
    {
     "data": {
      "text/plain": [
       "<keras.callbacks.History at 0x1a2357d048>"
      ]
     },
     "execution_count": 24,
     "metadata": {},
     "output_type": "execute_result"
    }
   ],
   "source": [
    "model.fit(data_train, target_train, batch_size=100, epochs=5, verbose=1,validation_data= (data_test,target_test))"
   ]
  },
  {
   "cell_type": "code",
   "execution_count": 25,
   "metadata": {},
   "outputs": [],
   "source": [
    "output = model.predict(data_test)"
   ]
  },
  {
   "cell_type": "code",
   "execution_count": 26,
   "metadata": {},
   "outputs": [
    {
     "name": "stdout",
     "output_type": "stream",
     "text": [
      "target :  [1. 0.] predict :  [0.9112642  0.08873575]\n",
      "target :  [0. 1.] predict :  [0.34412786 0.65587217]\n",
      "target :  [1. 0.] predict :  [0.99496585 0.00503411]\n",
      "target :  [1. 0.] predict :  [0.99058235 0.00941769]\n",
      "target :  [1. 0.] predict :  [0.71277124 0.28722876]\n",
      "target :  [1. 0.] predict :  [0.6245301  0.37546992]\n",
      "target :  [1. 0.] predict :  [0.81490105 0.1850989 ]\n",
      "target :  [1. 0.] predict :  [0.60501856 0.3949814 ]\n",
      "target :  [0. 1.] predict :  [0.6490925  0.35090753]\n",
      "target :  [1. 0.] predict :  [0.8052052  0.19479473]\n",
      "target :  [1. 0.] predict :  [0.9126928  0.08730717]\n",
      "target :  [0. 1.] predict :  [0.29109105 0.708909  ]\n",
      "target :  [1. 0.] predict :  [0.9329755  0.06702459]\n",
      "target :  [1. 0.] predict :  [0.97678655 0.02321337]\n",
      "target :  [1. 0.] predict :  [0.9644849  0.03551515]\n"
     ]
    }
   ],
   "source": [
    "for (t,o) in zip(target_test[:15],output[:15]):\n",
    "    print('target : ',t,'predict : ',o)"
   ]
  },
  {
   "cell_type": "markdown",
   "metadata": {},
   "source": [
    "## 5- 本日の競馬の予測"
   ]
  },
  {
   "cell_type": "code",
   "execution_count": 27,
   "metadata": {},
   "outputs": [],
   "source": [
    "#本日開催の競馬データの読み込み\n",
    "today_data = pd.read_csv('data/today_data_test.csv')"
   ]
  },
  {
   "cell_type": "code",
   "execution_count": 28,
   "metadata": {},
   "outputs": [],
   "source": [
    "#過去データの読み込み\n",
    "df = pd.read_csv('data/data_horse_race.csv')"
   ]
  },
  {
   "cell_type": "code",
   "execution_count": 29,
   "metadata": {
    "scrolled": true
   },
   "outputs": [
    {
     "data": {
      "text/html": [
       "<div>\n",
       "<style scoped>\n",
       "    .dataframe tbody tr th:only-of-type {\n",
       "        vertical-align: middle;\n",
       "    }\n",
       "\n",
       "    .dataframe tbody tr th {\n",
       "        vertical-align: top;\n",
       "    }\n",
       "\n",
       "    .dataframe thead th {\n",
       "        text-align: right;\n",
       "    }\n",
       "</style>\n",
       "<table border=\"1\" class=\"dataframe\">\n",
       "  <thead>\n",
       "    <tr style=\"text-align: right;\">\n",
       "      <th></th>\n",
       "      <th>開催年</th>\n",
       "      <th>開催日付</th>\n",
       "      <th>競馬場コード</th>\n",
       "      <th>開催回次</th>\n",
       "      <th>開催日目</th>\n",
       "      <th>レース番号</th>\n",
       "      <th>枠番</th>\n",
       "      <th>馬番</th>\n",
       "      <th>血統番号</th>\n",
       "      <th>馬名</th>\n",
       "      <th>...</th>\n",
       "      <th>同騎手3着内回数</th>\n",
       "      <th>今回競馬場経験数</th>\n",
       "      <th>今回距離1着回数</th>\n",
       "      <th>今回距離3着内回数</th>\n",
       "      <th>今回斤量経験回数</th>\n",
       "      <th>今回グレード経験数</th>\n",
       "      <th>短距離経験回数</th>\n",
       "      <th>マイル経験回数</th>\n",
       "      <th>中距離経験回数</th>\n",
       "      <th>長距離経験回数</th>\n",
       "    </tr>\n",
       "  </thead>\n",
       "  <tbody>\n",
       "    <tr>\n",
       "      <th>0</th>\n",
       "      <td>2018</td>\n",
       "      <td>527</td>\n",
       "      <td>5</td>\n",
       "      <td>2</td>\n",
       "      <td>12</td>\n",
       "      <td>10</td>\n",
       "      <td>1</td>\n",
       "      <td>1</td>\n",
       "      <td>2015102367</td>\n",
       "      <td>ダノンプレミアム</td>\n",
       "      <td>...</td>\n",
       "      <td>4</td>\n",
       "      <td>1</td>\n",
       "      <td>0</td>\n",
       "      <td>0</td>\n",
       "      <td>0</td>\n",
       "      <td>1</td>\n",
       "      <td>0</td>\n",
       "      <td>2</td>\n",
       "      <td>2</td>\n",
       "      <td>4</td>\n",
       "    </tr>\n",
       "    <tr>\n",
       "      <th>1</th>\n",
       "      <td>2018</td>\n",
       "      <td>527</td>\n",
       "      <td>5</td>\n",
       "      <td>2</td>\n",
       "      <td>12</td>\n",
       "      <td>10</td>\n",
       "      <td>1</td>\n",
       "      <td>2</td>\n",
       "      <td>2015104107</td>\n",
       "      <td>タイムフライヤー</td>\n",
       "      <td>...</td>\n",
       "      <td>0</td>\n",
       "      <td>0</td>\n",
       "      <td>0</td>\n",
       "      <td>0</td>\n",
       "      <td>1</td>\n",
       "      <td>2</td>\n",
       "      <td>0</td>\n",
       "      <td>0</td>\n",
       "      <td>7</td>\n",
       "      <td>7</td>\n",
       "    </tr>\n",
       "    <tr>\n",
       "      <th>2</th>\n",
       "      <td>2018</td>\n",
       "      <td>527</td>\n",
       "      <td>5</td>\n",
       "      <td>2</td>\n",
       "      <td>12</td>\n",
       "      <td>10</td>\n",
       "      <td>2</td>\n",
       "      <td>3</td>\n",
       "      <td>2015100122</td>\n",
       "      <td>テーオーエナジー</td>\n",
       "      <td>...</td>\n",
       "      <td>2</td>\n",
       "      <td>0</td>\n",
       "      <td>0</td>\n",
       "      <td>0</td>\n",
       "      <td>0</td>\n",
       "      <td>0</td>\n",
       "      <td>0</td>\n",
       "      <td>0</td>\n",
       "      <td>4</td>\n",
       "      <td>4</td>\n",
       "    </tr>\n",
       "    <tr>\n",
       "      <th>3</th>\n",
       "      <td>2018</td>\n",
       "      <td>527</td>\n",
       "      <td>5</td>\n",
       "      <td>2</td>\n",
       "      <td>12</td>\n",
       "      <td>10</td>\n",
       "      <td>2</td>\n",
       "      <td>4</td>\n",
       "      <td>2015104713</td>\n",
       "      <td>アドマイヤアルバ</td>\n",
       "      <td>...</td>\n",
       "      <td>0</td>\n",
       "      <td>0</td>\n",
       "      <td>0</td>\n",
       "      <td>0</td>\n",
       "      <td>0</td>\n",
       "      <td>0</td>\n",
       "      <td>0</td>\n",
       "      <td>5</td>\n",
       "      <td>4</td>\n",
       "      <td>9</td>\n",
       "    </tr>\n",
       "    <tr>\n",
       "      <th>4</th>\n",
       "      <td>2018</td>\n",
       "      <td>527</td>\n",
       "      <td>5</td>\n",
       "      <td>2</td>\n",
       "      <td>12</td>\n",
       "      <td>10</td>\n",
       "      <td>3</td>\n",
       "      <td>5</td>\n",
       "      <td>2015104987</td>\n",
       "      <td>キタノコマンドール</td>\n",
       "      <td>...</td>\n",
       "      <td>0</td>\n",
       "      <td>0</td>\n",
       "      <td>0</td>\n",
       "      <td>0</td>\n",
       "      <td>1</td>\n",
       "      <td>1</td>\n",
       "      <td>0</td>\n",
       "      <td>0</td>\n",
       "      <td>3</td>\n",
       "      <td>3</td>\n",
       "    </tr>\n",
       "    <tr>\n",
       "      <th>5</th>\n",
       "      <td>2018</td>\n",
       "      <td>527</td>\n",
       "      <td>5</td>\n",
       "      <td>2</td>\n",
       "      <td>12</td>\n",
       "      <td>10</td>\n",
       "      <td>3</td>\n",
       "      <td>6</td>\n",
       "      <td>2015106299</td>\n",
       "      <td>ゴーフォザサミット</td>\n",
       "      <td>...</td>\n",
       "      <td>2</td>\n",
       "      <td>3</td>\n",
       "      <td>1</td>\n",
       "      <td>1</td>\n",
       "      <td>0</td>\n",
       "      <td>0</td>\n",
       "      <td>0</td>\n",
       "      <td>0</td>\n",
       "      <td>5</td>\n",
       "      <td>6</td>\n",
       "    </tr>\n",
       "    <tr>\n",
       "      <th>6</th>\n",
       "      <td>2018</td>\n",
       "      <td>527</td>\n",
       "      <td>5</td>\n",
       "      <td>2</td>\n",
       "      <td>12</td>\n",
       "      <td>10</td>\n",
       "      <td>4</td>\n",
       "      <td>7</td>\n",
       "      <td>2015105021</td>\n",
       "      <td>コズミックフォース</td>\n",
       "      <td>...</td>\n",
       "      <td>0</td>\n",
       "      <td>3</td>\n",
       "      <td>0</td>\n",
       "      <td>0</td>\n",
       "      <td>0</td>\n",
       "      <td>0</td>\n",
       "      <td>0</td>\n",
       "      <td>0</td>\n",
       "      <td>5</td>\n",
       "      <td>5</td>\n",
       "    </tr>\n",
       "    <tr>\n",
       "      <th>7</th>\n",
       "      <td>2018</td>\n",
       "      <td>527</td>\n",
       "      <td>5</td>\n",
       "      <td>2</td>\n",
       "      <td>12</td>\n",
       "      <td>10</td>\n",
       "      <td>4</td>\n",
       "      <td>8</td>\n",
       "      <td>2015104882</td>\n",
       "      <td>ブラストワンピース</td>\n",
       "      <td>...</td>\n",
       "      <td>3</td>\n",
       "      <td>2</td>\n",
       "      <td>1</td>\n",
       "      <td>1</td>\n",
       "      <td>0</td>\n",
       "      <td>0</td>\n",
       "      <td>0</td>\n",
       "      <td>0</td>\n",
       "      <td>2</td>\n",
       "      <td>3</td>\n",
       "    </tr>\n",
       "    <tr>\n",
       "      <th>8</th>\n",
       "      <td>2018</td>\n",
       "      <td>527</td>\n",
       "      <td>5</td>\n",
       "      <td>2</td>\n",
       "      <td>12</td>\n",
       "      <td>10</td>\n",
       "      <td>5</td>\n",
       "      <td>9</td>\n",
       "      <td>2015105033</td>\n",
       "      <td>オウケンムーン</td>\n",
       "      <td>...</td>\n",
       "      <td>3</td>\n",
       "      <td>1</td>\n",
       "      <td>0</td>\n",
       "      <td>0</td>\n",
       "      <td>1</td>\n",
       "      <td>1</td>\n",
       "      <td>0</td>\n",
       "      <td>0</td>\n",
       "      <td>5</td>\n",
       "      <td>5</td>\n",
       "    </tr>\n",
       "    <tr>\n",
       "      <th>9</th>\n",
       "      <td>2018</td>\n",
       "      <td>527</td>\n",
       "      <td>5</td>\n",
       "      <td>2</td>\n",
       "      <td>12</td>\n",
       "      <td>10</td>\n",
       "      <td>5</td>\n",
       "      <td>10</td>\n",
       "      <td>2015104287</td>\n",
       "      <td>ステイフーリッシュ</td>\n",
       "      <td>...</td>\n",
       "      <td>0</td>\n",
       "      <td>1</td>\n",
       "      <td>0</td>\n",
       "      <td>0</td>\n",
       "      <td>0</td>\n",
       "      <td>1</td>\n",
       "      <td>0</td>\n",
       "      <td>0</td>\n",
       "      <td>4</td>\n",
       "      <td>4</td>\n",
       "    </tr>\n",
       "    <tr>\n",
       "      <th>10</th>\n",
       "      <td>2018</td>\n",
       "      <td>527</td>\n",
       "      <td>5</td>\n",
       "      <td>2</td>\n",
       "      <td>12</td>\n",
       "      <td>10</td>\n",
       "      <td>6</td>\n",
       "      <td>11</td>\n",
       "      <td>2015110013</td>\n",
       "      <td>ジャンダルム</td>\n",
       "      <td>...</td>\n",
       "      <td>3</td>\n",
       "      <td>0</td>\n",
       "      <td>0</td>\n",
       "      <td>0</td>\n",
       "      <td>1</td>\n",
       "      <td>2</td>\n",
       "      <td>0</td>\n",
       "      <td>2</td>\n",
       "      <td>3</td>\n",
       "      <td>5</td>\n",
       "    </tr>\n",
       "    <tr>\n",
       "      <th>11</th>\n",
       "      <td>2018</td>\n",
       "      <td>527</td>\n",
       "      <td>5</td>\n",
       "      <td>2</td>\n",
       "      <td>12</td>\n",
       "      <td>10</td>\n",
       "      <td>6</td>\n",
       "      <td>12</td>\n",
       "      <td>2015102440</td>\n",
       "      <td>エポカドーロ</td>\n",
       "      <td>...</td>\n",
       "      <td>3</td>\n",
       "      <td>0</td>\n",
       "      <td>0</td>\n",
       "      <td>0</td>\n",
       "      <td>1</td>\n",
       "      <td>1</td>\n",
       "      <td>0</td>\n",
       "      <td>1</td>\n",
       "      <td>4</td>\n",
       "      <td>5</td>\n",
       "    </tr>\n",
       "    <tr>\n",
       "      <th>12</th>\n",
       "      <td>2018</td>\n",
       "      <td>527</td>\n",
       "      <td>5</td>\n",
       "      <td>2</td>\n",
       "      <td>12</td>\n",
       "      <td>10</td>\n",
       "      <td>7</td>\n",
       "      <td>13</td>\n",
       "      <td>2015104976</td>\n",
       "      <td>グレイル</td>\n",
       "      <td>...</td>\n",
       "      <td>0</td>\n",
       "      <td>1</td>\n",
       "      <td>0</td>\n",
       "      <td>0</td>\n",
       "      <td>2</td>\n",
       "      <td>1</td>\n",
       "      <td>0</td>\n",
       "      <td>0</td>\n",
       "      <td>4</td>\n",
       "      <td>4</td>\n",
       "    </tr>\n",
       "    <tr>\n",
       "      <th>13</th>\n",
       "      <td>2018</td>\n",
       "      <td>527</td>\n",
       "      <td>5</td>\n",
       "      <td>2</td>\n",
       "      <td>12</td>\n",
       "      <td>10</td>\n",
       "      <td>7</td>\n",
       "      <td>14</td>\n",
       "      <td>2015104995</td>\n",
       "      <td>エタリオウ</td>\n",
       "      <td>...</td>\n",
       "      <td>0</td>\n",
       "      <td>1</td>\n",
       "      <td>0</td>\n",
       "      <td>3</td>\n",
       "      <td>0</td>\n",
       "      <td>0</td>\n",
       "      <td>0</td>\n",
       "      <td>0</td>\n",
       "      <td>3</td>\n",
       "      <td>6</td>\n",
       "    </tr>\n",
       "    <tr>\n",
       "      <th>14</th>\n",
       "      <td>2018</td>\n",
       "      <td>527</td>\n",
       "      <td>5</td>\n",
       "      <td>2</td>\n",
       "      <td>12</td>\n",
       "      <td>10</td>\n",
       "      <td>7</td>\n",
       "      <td>15</td>\n",
       "      <td>2015105064</td>\n",
       "      <td>ステルヴィオ</td>\n",
       "      <td>...</td>\n",
       "      <td>4</td>\n",
       "      <td>2</td>\n",
       "      <td>0</td>\n",
       "      <td>0</td>\n",
       "      <td>1</td>\n",
       "      <td>2</td>\n",
       "      <td>0</td>\n",
       "      <td>3</td>\n",
       "      <td>3</td>\n",
       "      <td>6</td>\n",
       "    </tr>\n",
       "    <tr>\n",
       "      <th>15</th>\n",
       "      <td>2018</td>\n",
       "      <td>527</td>\n",
       "      <td>5</td>\n",
       "      <td>2</td>\n",
       "      <td>12</td>\n",
       "      <td>10</td>\n",
       "      <td>8</td>\n",
       "      <td>16</td>\n",
       "      <td>2015101467</td>\n",
       "      <td>ジェネラーレウーノ</td>\n",
       "      <td>...</td>\n",
       "      <td>3</td>\n",
       "      <td>1</td>\n",
       "      <td>0</td>\n",
       "      <td>0</td>\n",
       "      <td>1</td>\n",
       "      <td>1</td>\n",
       "      <td>0</td>\n",
       "      <td>0</td>\n",
       "      <td>5</td>\n",
       "      <td>5</td>\n",
       "    </tr>\n",
       "    <tr>\n",
       "      <th>16</th>\n",
       "      <td>2018</td>\n",
       "      <td>527</td>\n",
       "      <td>5</td>\n",
       "      <td>2</td>\n",
       "      <td>12</td>\n",
       "      <td>10</td>\n",
       "      <td>8</td>\n",
       "      <td>17</td>\n",
       "      <td>2015105022</td>\n",
       "      <td>ワグネリアン</td>\n",
       "      <td>...</td>\n",
       "      <td>4</td>\n",
       "      <td>1</td>\n",
       "      <td>0</td>\n",
       "      <td>0</td>\n",
       "      <td>1</td>\n",
       "      <td>1</td>\n",
       "      <td>0</td>\n",
       "      <td>0</td>\n",
       "      <td>5</td>\n",
       "      <td>5</td>\n",
       "    </tr>\n",
       "    <tr>\n",
       "      <th>17</th>\n",
       "      <td>2018</td>\n",
       "      <td>527</td>\n",
       "      <td>5</td>\n",
       "      <td>2</td>\n",
       "      <td>12</td>\n",
       "      <td>10</td>\n",
       "      <td>8</td>\n",
       "      <td>18</td>\n",
       "      <td>2015100258</td>\n",
       "      <td>サンリヴァル</td>\n",
       "      <td>...</td>\n",
       "      <td>0</td>\n",
       "      <td>0</td>\n",
       "      <td>0</td>\n",
       "      <td>0</td>\n",
       "      <td>1</td>\n",
       "      <td>2</td>\n",
       "      <td>0</td>\n",
       "      <td>0</td>\n",
       "      <td>5</td>\n",
       "      <td>5</td>\n",
       "    </tr>\n",
       "  </tbody>\n",
       "</table>\n",
       "<p>18 rows × 162 columns</p>\n",
       "</div>"
      ],
      "text/plain": [
       "     開催年  開催日付  競馬場コード  開催回次  開催日目  レース番号  枠番  馬番        血統番号         馬名  \\\n",
       "0   2018   527       5     2    12     10   1   1  2015102367   ダノンプレミアム   \n",
       "1   2018   527       5     2    12     10   1   2  2015104107   タイムフライヤー   \n",
       "2   2018   527       5     2    12     10   2   3  2015100122   テーオーエナジー   \n",
       "3   2018   527       5     2    12     10   2   4  2015104713   アドマイヤアルバ   \n",
       "4   2018   527       5     2    12     10   3   5  2015104987  キタノコマンドール   \n",
       "5   2018   527       5     2    12     10   3   6  2015106299  ゴーフォザサミット   \n",
       "6   2018   527       5     2    12     10   4   7  2015105021  コズミックフォース   \n",
       "7   2018   527       5     2    12     10   4   8  2015104882  ブラストワンピース   \n",
       "8   2018   527       5     2    12     10   5   9  2015105033    オウケンムーン   \n",
       "9   2018   527       5     2    12     10   5  10  2015104287  ステイフーリッシュ   \n",
       "10  2018   527       5     2    12     10   6  11  2015110013     ジャンダルム   \n",
       "11  2018   527       5     2    12     10   6  12  2015102440     エポカドーロ   \n",
       "12  2018   527       5     2    12     10   7  13  2015104976       グレイル   \n",
       "13  2018   527       5     2    12     10   7  14  2015104995      エタリオウ   \n",
       "14  2018   527       5     2    12     10   7  15  2015105064     ステルヴィオ   \n",
       "15  2018   527       5     2    12     10   8  16  2015101467  ジェネラーレウーノ   \n",
       "16  2018   527       5     2    12     10   8  17  2015105022     ワグネリアン   \n",
       "17  2018   527       5     2    12     10   8  18  2015100258     サンリヴァル   \n",
       "\n",
       "     ...     同騎手3着内回数  今回競馬場経験数  今回距離1着回数  今回距離3着内回数  今回斤量経験回数  今回グレード経験数  \\\n",
       "0    ...            4         1         0          0         0          1   \n",
       "1    ...            0         0         0          0         1          2   \n",
       "2    ...            2         0         0          0         0          0   \n",
       "3    ...            0         0         0          0         0          0   \n",
       "4    ...            0         0         0          0         1          1   \n",
       "5    ...            2         3         1          1         0          0   \n",
       "6    ...            0         3         0          0         0          0   \n",
       "7    ...            3         2         1          1         0          0   \n",
       "8    ...            3         1         0          0         1          1   \n",
       "9    ...            0         1         0          0         0          1   \n",
       "10   ...            3         0         0          0         1          2   \n",
       "11   ...            3         0         0          0         1          1   \n",
       "12   ...            0         1         0          0         2          1   \n",
       "13   ...            0         1         0          3         0          0   \n",
       "14   ...            4         2         0          0         1          2   \n",
       "15   ...            3         1         0          0         1          1   \n",
       "16   ...            4         1         0          0         1          1   \n",
       "17   ...            0         0         0          0         1          2   \n",
       "\n",
       "    短距離経験回数  マイル経験回数  中距離経験回数  長距離経験回数  \n",
       "0         0        2        2        4  \n",
       "1         0        0        7        7  \n",
       "2         0        0        4        4  \n",
       "3         0        5        4        9  \n",
       "4         0        0        3        3  \n",
       "5         0        0        5        6  \n",
       "6         0        0        5        5  \n",
       "7         0        0        2        3  \n",
       "8         0        0        5        5  \n",
       "9         0        0        4        4  \n",
       "10        0        2        3        5  \n",
       "11        0        1        4        5  \n",
       "12        0        0        4        4  \n",
       "13        0        0        3        6  \n",
       "14        0        3        3        6  \n",
       "15        0        0        5        5  \n",
       "16        0        0        5        5  \n",
       "17        0        0        5        5  \n",
       "\n",
       "[18 rows x 162 columns]"
      ]
     },
     "execution_count": 29,
     "metadata": {},
     "output_type": "execute_result"
    }
   ],
   "source": [
    "today_data"
   ]
  },
  {
   "cell_type": "code",
   "execution_count": 30,
   "metadata": {},
   "outputs": [],
   "source": [
    "#あとで予測対象データを取り出しやすいようindexを変更する\n",
    "today_data.index = [i+1000000 for i in range(len(today_data))]"
   ]
  },
  {
   "cell_type": "code",
   "execution_count": 31,
   "metadata": {},
   "outputs": [],
   "source": [
    "#前処理のため過去データを連結する\n",
    "df = pd.concat([df,today_data])"
   ]
  },
  {
   "cell_type": "code",
   "execution_count": 32,
   "metadata": {},
   "outputs": [],
   "source": [
    "#先ほど作った前処理関数\n",
    "df = preprocessing(df)\n",
    "df = drop_columns(df)\n",
    "df = to_onehot(df)\n",
    "df = fill_nan(df)\n",
    "df = normalize(df)"
   ]
  },
  {
   "cell_type": "code",
   "execution_count": 33,
   "metadata": {},
   "outputs": [],
   "source": [
    "#予測対象データを取り出す\n",
    "df = df.ix[1000000:]"
   ]
  },
  {
   "cell_type": "code",
   "execution_count": 34,
   "metadata": {},
   "outputs": [],
   "source": [
    "x = df.values"
   ]
  },
  {
   "cell_type": "markdown",
   "metadata": {},
   "source": [
    "## 予測結果の出力"
   ]
  },
  {
   "cell_type": "markdown",
   "metadata": {},
   "source": [
    "### ランダムフォレスト(分類)"
   ]
  },
  {
   "cell_type": "code",
   "execution_count": 52,
   "metadata": {},
   "outputs": [],
   "source": [
    "#予測出力\n",
    "output = forest_classifier.predict(x)"
   ]
  },
  {
   "cell_type": "code",
   "execution_count": 54,
   "metadata": {},
   "outputs": [
    {
     "name": "stdout",
     "output_type": "stream",
     "text": [
      "東京 10 R\n",
      "1番\tダノンプレミアム\t0\n",
      "2番\tタイムフライヤー\t0\n",
      "3番\tテーオーエナジー\t0\n",
      "4番\tアドマイヤアルバ\t0\n",
      "5番\tキタノコマンドール\t1\n",
      "6番\tゴーフォザサミット\t0\n",
      "7番\tコズミックフォース\t0\n",
      "8番\tブラストワンピース\t0\n",
      "9番\tオウケンムーン\t0\n",
      "10番\tステイフーリッシュ\t0\n",
      "11番\tジャンダルム\t0\n",
      "12番\tエポカドーロ\t0\n",
      "13番\tグレイル\t0\n",
      "14番\tエタリオウ\t0\n",
      "15番\tステルヴィオ\t0\n",
      "16番\tジェネラーレウーノ\t0\n",
      "17番\tワグネリアン\t1\n",
      "18番\tサンリヴァル\t0\n"
     ]
    }
   ],
   "source": [
    "print(ut.course(today_data.iloc[0]['競馬場コード']),today_data.iloc[0]['レース番号'],'R')\n",
    "for (t,o) in zip(today_data[['馬番','馬名']].values,output):\n",
    "    print(str(t[0])+'番\\t' + t[1] +'\\t' +str(o))"
   ]
  },
  {
   "cell_type": "markdown",
   "metadata": {},
   "source": [
    "### ランダムフォレスト(回帰)"
   ]
  },
  {
   "cell_type": "code",
   "execution_count": 56,
   "metadata": {},
   "outputs": [],
   "source": [
    "#予測出力\n",
    "output = forest_regressor.predict(x)"
   ]
  },
  {
   "cell_type": "code",
   "execution_count": 57,
   "metadata": {},
   "outputs": [
    {
     "name": "stdout",
     "output_type": "stream",
     "text": [
      "東京 10 R\n",
      "1番\tダノンプレミアム\t0.30095238095238097\n",
      "2番\tタイムフライヤー\t0.09523809523809523\n",
      "3番\tテーオーエナジー\t0.13333333333333333\n",
      "4番\tアドマイヤアルバ\t0.16\n",
      "5番\tキタノコマンドール\t0.3571428571428571\n",
      "6番\tゴーフォザサミット\t0.1\n",
      "7番\tコズミックフォース\t0.34833333333333333\n",
      "8番\tブラストワンピース\t0.395\n",
      "9番\tオウケンムーン\t0.14785714285714285\n",
      "10番\tステイフーリッシュ\t0.0\n",
      "11番\tジャンダルム\t0.07083333333333333\n",
      "12番\tエポカドーロ\t0.6833333333333333\n",
      "13番\tグレイル\t0.03333333333333333\n",
      "14番\tエタリオウ\t0.0\n",
      "15番\tステルヴィオ\t0.20952380952380953\n",
      "16番\tジェネラーレウーノ\t0.1\n",
      "17番\tワグネリアン\t0.6766666666666666\n",
      "18番\tサンリヴァル\t0.09166666666666666\n"
     ]
    }
   ],
   "source": [
    "print(ut.course(today_data.iloc[0]['競馬場コード']),today_data.iloc[0]['レース番号'],'R')\n",
    "for (t,o) in zip(today_data[['馬番','馬名']].values,output):\n",
    "    print(str(t[0])+'番\\t' + t[1] +'\\t' +str(o[1]))"
   ]
  },
  {
   "cell_type": "markdown",
   "metadata": {},
   "source": [
    "### ニューラルネット"
   ]
  },
  {
   "cell_type": "code",
   "execution_count": 58,
   "metadata": {},
   "outputs": [],
   "source": [
    "#予測出力\n",
    "output = model.predict(x)"
   ]
  },
  {
   "cell_type": "code",
   "execution_count": 59,
   "metadata": {},
   "outputs": [
    {
     "name": "stdout",
     "output_type": "stream",
     "text": [
      "東京 10 R\n",
      "1番\tダノンプレミアム\t0.58553624\n",
      "2番\tタイムフライヤー\t0.0074570077\n",
      "3番\tテーオーエナジー\t0.0025859242\n",
      "4番\tアドマイヤアルバ\t0.008786673\n",
      "5番\tキタノコマンドール\t0.33953658\n",
      "6番\tゴーフォザサミット\t0.2332467\n",
      "7番\tコズミックフォース\t0.010157589\n",
      "8番\tブラストワンピース\t0.33789623\n",
      "9番\tオウケンムーン\t0.0068886005\n",
      "10番\tステイフーリッシュ\t0.040912703\n",
      "11番\tジャンダルム\t0.021113275\n",
      "12番\tエポカドーロ\t0.40321103\n",
      "13番\tグレイル\t0.042560786\n",
      "14番\tエタリオウ\t0.025614439\n",
      "15番\tステルヴィオ\t0.07716038\n",
      "16番\tジェネラーレウーノ\t0.03089395\n",
      "17番\tワグネリアン\t0.32703662\n",
      "18番\tサンリヴァル\t0.01752369\n"
     ]
    }
   ],
   "source": [
    "print(ut.course(today_data.iloc[0]['競馬場コード']),today_data.iloc[0]['レース番号'],'R')\n",
    "for (t,o) in zip(today_data[['馬番','馬名']].values,output):\n",
    "    print(str(t[0])+'番\\t' + t[1] +'\\t' +str(o[1]))"
   ]
  },
  {
   "cell_type": "code",
   "execution_count": null,
   "metadata": {},
   "outputs": [],
   "source": []
  }
 ],
 "metadata": {
  "kernelspec": {
   "display_name": "Python 3",
   "language": "python",
   "name": "python3"
  },
  "language_info": {
   "codemirror_mode": {
    "name": "ipython",
    "version": 3
   },
   "file_extension": ".py",
   "mimetype": "text/x-python",
   "name": "python",
   "nbconvert_exporter": "python",
   "pygments_lexer": "ipython3",
   "version": "3.6.4"
  }
 },
 "nbformat": 4,
 "nbformat_minor": 2
}
