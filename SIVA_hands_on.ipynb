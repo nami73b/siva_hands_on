{
 "cells": [
  {
   "cell_type": "markdown",
   "metadata": {},
   "source": [
    "# SIVA(シヴァ)AI競馬開発エンジニアによる<br>「競馬で始める機械学習」ハンズオン\n",
    "\n",
    "## 目標\n",
    "    ・競馬の過去データを使って、予測AIの作成手順を身につける。\n",
    "    ・前処理、アルゴリズムのチューニングによって予測精度を上げる手法を身につける。\n",
    "    ・各自作成した競馬予測AIを使って本日開催の競馬の予測を行う。\n",
    "\n",
    "## 本日の流れ\n",
    "    1- 必要ライブラリの読み込み\n",
    "    2- データの読み込み\n",
    "    3- 前処理\n",
    "    4- 予測アルゴリズムの構築\n",
    "    5- 本日の競馬の予測\n",
    "\n"
   ]
  },
  {
   "cell_type": "markdown",
   "metadata": {},
   "source": [
    "## 1- 必要ライブラリの読み込み"
   ]
  },
  {
   "cell_type": "code",
   "execution_count": 44,
   "metadata": {},
   "outputs": [],
   "source": [
    "import pandas as pd\n",
    "\n",
    "from sklearn.model_selection import train_test_split\n",
    "from sklearn.preprocessing import scale\n",
    "from sklearn.ensemble import RandomForestClassifier\n",
    "from sklearn.ensemble import RandomForestRegressor\n",
    "\n",
    "from keras.utils.np_utils import to_categorical\n",
    "from keras.layers import Activation,Dense,Dropout\n",
    "from keras.models import Sequential\n",
    "\n",
    "from keras.layers.normalization import BatchNormalization\n",
    "\n",
    "import util as ut"
   ]
  },
  {
   "cell_type": "markdown",
   "metadata": {},
   "source": [
    "## 2- データの読み込み\n",
    "    2016年~2018年の3年分の過去データ(data_horse_race.csv)を読み込む"
   ]
  },
  {
   "cell_type": "code",
   "execution_count": 45,
   "metadata": {},
   "outputs": [],
   "source": [
    "df = pd.read_csv('data/data_horse_race.csv')"
   ]
  },
  {
   "cell_type": "code",
   "execution_count": 46,
   "metadata": {},
   "outputs": [
    {
     "name": "stdout",
     "output_type": "stream",
     "text": [
      "開催年  :  2016\n",
      "開催日付  :  105\n",
      "競馬場コード  :  6\n",
      "開催回次  :  1\n",
      "開催日目  :  1\n",
      "レース番号  :  1\n",
      "枠番  :  1\n",
      "馬番  :  1\n",
      "血統番号  :  2013105621\n",
      "馬名  :  プロジェクション\n",
      "性別  :  2\n",
      "毛色コード  :  3\n",
      "馬齢  :  3\n",
      "東西所属コード  :  1\n",
      "調教師コード  :  353\n",
      "斤量  :  540\n",
      "ブリンカー仕様区分  :  0\n",
      "騎手コード  :  1131\n",
      "騎手見習いコード  :  0\n",
      "馬体重  :  472\n",
      "増減符号  :  -\n",
      "増減差  :  2\n",
      "着順  :  16\n",
      "走破タイム  :  1161\n",
      "単勝オッズ  :  1905\n",
      "単勝人気  :  14\n",
      "着差  :  29\n",
      "グレードコード  :  nan\n",
      "競争種別コード  :  12\n",
      "重量種別コード  :  3\n",
      "競争条件コード  :  703\n",
      "距離  :  1200\n",
      "芝ダート  :  d\n",
      "回り方向  :  R\n",
      "コース区分  :  nan\n",
      "本賞金  :  50000\n",
      "出走頭数  :  16\n",
      "天気コード  :  1\n",
      "芝馬場  :  0\n",
      "ダート馬場  :  1\n",
      "開催年_1走前  :  2015.0\n",
      "開催日付_1走前  :  1114.0\n",
      "競馬場コード_1走前  :  3.0\n",
      "馬番_1走前  :  11.0\n",
      "斤量_1走前  :  530.0\n",
      "ブリンカー仕様区分_1走前  :  0.0\n",
      "騎手コード_1走前  :  1154.0\n",
      "騎手名_1走前  :  松若風馬\n",
      "馬体重_1走前  :  474.0\n",
      "異常区分コード_1走前  :  0.0\n",
      "着順_1走前  :  14.0\n",
      "1コーナー順位_1走前  :  0.0\n",
      "2コーナー順位_1走前  :  0.0\n",
      "3コーナー順位_1走前  :  9.0\n",
      "4コーナー順位_1走前  :  10.0\n",
      "単勝オッズ_1走前  :  290.0\n",
      "単勝人気_1走前  :  8.0\n",
      "ラスト3Fタイム_1走前  :  400.0\n",
      "着差_1走前  :  29.0\n",
      "グレードコード_1走前  :  nan\n",
      "競争種別コード_1走前  :  11.0\n",
      "重量種別コード_1走前  :  3.0\n",
      "距離_1走前  :  1150.0\n",
      "芝ダート_1走前  :  d\n",
      "回り方向_1走前  :  R\n",
      "競争条件コード_1走前  :  703.0\n",
      "コース区分_1走前  :  nan\n",
      "本賞金_1走前  :  50000.0\n",
      "出走頭数_1走前  :  16.0\n",
      "天気コード_1走前  :  3.0\n",
      "芝馬場_1走前  :  0.0\n",
      "ダート馬場_1走前  :  2.0\n",
      "開催年_2走前  :  2015.0\n",
      "開催日付_2走前  :  913.0\n",
      "競馬場コード_2走前  :  6.0\n",
      "馬番_2走前  :  4.0\n",
      "斤量_2走前  :  540.0\n",
      "ブリンカー仕様区分_2走前  :  0.0\n",
      "騎手コード_2走前  :  1122.0\n",
      "騎手名_2走前  :  三浦皇成\n",
      "馬体重_2走前  :  466.0\n",
      "異常区分コード_2走前  :  0.0\n",
      "着順_2走前  :  15.0\n",
      "1コーナー順位_2走前  :  0.0\n",
      "2コーナー順位_2走前  :  1.0\n",
      "3コーナー順位_2走前  :  1.0\n",
      "4コーナー順位_2走前  :  1.0\n",
      "単勝オッズ_2走前  :  89.0\n",
      "単勝人気_2走前  :  4.0\n",
      "ラスト3Fタイム_2走前  :  392.0\n",
      "着差_2走前  :  33.0\n",
      "グレードコード_2走前  :  nan\n",
      "競争種別コード_2走前  :  11.0\n",
      "重量種別コード_2走前  :  3.0\n",
      "距離_2走前  :  1600.0\n",
      "芝ダート_2走前  :  s\n",
      "回り方向_2走前  :  R\n",
      "競争条件コード_2走前  :  701.0\n",
      "コース区分_2走前  :  B\n",
      "本賞金_2走前  :  70000.0\n",
      "出走頭数_2走前  :  16.0\n",
      "天気コード_2走前  :  2.0\n",
      "芝馬場_2走前  :  1.0\n",
      "ダート馬場_2走前  :  0.0\n",
      "開催年_3走前  :  nan\n",
      "開催日付_3走前  :  nan\n",
      "競馬場コード_3走前  :  nan\n",
      "馬番_3走前  :  nan\n",
      "斤量_3走前  :  nan\n",
      "ブリンカー仕様区分_3走前  :  nan\n",
      "騎手コード_3走前  :  nan\n",
      "騎手名_3走前  :  nan\n",
      "馬体重_3走前  :  nan\n",
      "異常区分コード_3走前  :  nan\n",
      "着順_3走前  :  nan\n",
      "1コーナー順位_3走前  :  nan\n",
      "2コーナー順位_3走前  :  nan\n",
      "3コーナー順位_3走前  :  nan\n",
      "4コーナー順位_3走前  :  nan\n",
      "単勝オッズ_3走前  :  nan\n",
      "単勝人気_3走前  :  nan\n",
      "ラスト3Fタイム_3走前  :  nan\n",
      "着差_3走前  :  nan\n",
      "グレードコード_3走前  :  nan\n",
      "競争種別コード_3走前  :  nan\n",
      "重量種別コード_3走前  :  nan\n",
      "距離_3走前  :  nan\n",
      "芝ダート_3走前  :  nan\n",
      "回り方向_3走前  :  nan\n",
      "競争条件コード_3走前  :  nan\n",
      "コース区分_3走前  :  nan\n",
      "本賞金_3走前  :  nan\n",
      "出走頭数_3走前  :  nan\n",
      "天気コード_3走前  :  nan\n",
      "芝馬場_3走前  :  nan\n",
      "ダート馬場_3走前  :  nan\n"
     ]
    }
   ],
   "source": [
    "for c in df.columns:\n",
    "    print(c,' : ',df.iloc[0][c])"
   ]
  },
  {
   "cell_type": "markdown",
   "metadata": {},
   "source": [
    "## 3- 前処理\n",
    "    ・不要ファクタの削除\n",
    "    ・カテゴリカルデータのone-hot値化"
   ]
  },
  {
   "cell_type": "markdown",
   "metadata": {},
   "source": [
    "### ラベルデータの作成\n",
    "    今回ラベルは[3着以下,3着以上]と設定する"
   ]
  },
  {
   "cell_type": "code",
   "execution_count": 47,
   "metadata": {},
   "outputs": [],
   "source": [
    "#着順データを抽出する\n",
    "target_data = df['着順']"
   ]
  },
  {
   "cell_type": "code",
   "execution_count": 48,
   "metadata": {
    "scrolled": true
   },
   "outputs": [
    {
     "data": {
      "text/plain": [
       "0     16\n",
       "1     10\n",
       "2     14\n",
       "3      8\n",
       "4      5\n",
       "5     12\n",
       "6      6\n",
       "7     15\n",
       "8      4\n",
       "9      9\n",
       "10     2\n",
       "11     1\n",
       "12     3\n",
       "13     7\n",
       "14    11\n",
       "Name: 着順, dtype: int64"
      ]
     },
     "execution_count": 48,
     "metadata": {},
     "output_type": "execute_result"
    }
   ],
   "source": [
    "target_data[:15]"
   ]
  },
  {
   "cell_type": "code",
   "execution_count": 49,
   "metadata": {
    "scrolled": true
   },
   "outputs": [],
   "source": [
    "#着順がN着以内であれば1,3着以上であれば0に変換\n",
    "\n",
    "#分類分けの閾値を設定\n",
    "limit_order = 3\n",
    "\n",
    "target_data = target_data.apply(lambda x:1 if x <= limit_order else 0)"
   ]
  },
  {
   "cell_type": "code",
   "execution_count": 50,
   "metadata": {
    "scrolled": true
   },
   "outputs": [
    {
     "data": {
      "text/plain": [
       "0     0\n",
       "1     0\n",
       "2     0\n",
       "3     0\n",
       "4     0\n",
       "5     0\n",
       "6     0\n",
       "7     0\n",
       "8     0\n",
       "9     0\n",
       "10    1\n",
       "11    1\n",
       "12    1\n",
       "13    0\n",
       "14    0\n",
       "Name: 着順, dtype: int64"
      ]
     },
     "execution_count": 50,
     "metadata": {},
     "output_type": "execute_result"
    }
   ],
   "source": [
    "target_data[:15]"
   ]
  },
  {
   "cell_type": "markdown",
   "metadata": {},
   "source": [
    "### 不要カラムを削除"
   ]
  },
  {
   "cell_type": "code",
   "execution_count": 51,
   "metadata": {},
   "outputs": [],
   "source": [
    "#カスタマイズ用前処理プログラム\n",
    "def preprocessing(df):\n",
    "    #make_yourself!!\n",
    "    return df"
   ]
  },
  {
   "cell_type": "code",
   "execution_count": 52,
   "metadata": {},
   "outputs": [],
   "source": [
    "df = preprocessing(df)"
   ]
  },
  {
   "cell_type": "code",
   "execution_count": 53,
   "metadata": {},
   "outputs": [],
   "source": [
    "def drop_columns(df):\n",
    "    #不要カラムのリストを作成しまとめて削除する\n",
    "    drop_columns_list = []\n",
    "\n",
    "    #馬を特定する情報を削除\n",
    "    drop_columns_list.extend(['血統番号','馬名'])\n",
    "\n",
    "    #レース前にわからないデータを削除リストに追加\n",
    "    drop_columns_list.extend(['着順','走破タイム','着差'])\n",
    "\n",
    "    #カテゴリデータであり種類が多いため、取捨選択をよく考える必要がある\n",
    "    drop_columns_list.extend(['調教師コード','騎手コード'])\n",
    "\n",
    "    pre_col = ['騎手名','騎手コード']\n",
    "    for i in range(1,4):\n",
    "        for c in pre_col:\n",
    "            drop_columns_list.append(c + '_'+str(i)+'走前')\n",
    "            \n",
    "    drop_columns_list.extend(['開催年'])\n",
    "\n",
    "    #直前発表データのため今回は不使用\n",
    "    drop_columns_list.extend(['天気コード','芝馬場','ダート馬場','馬体重','増減符号','増減差'])\n",
    "\n",
    "    df = df.drop(drop_columns_list,axis = 1)\n",
    "    \n",
    "    return df"
   ]
  },
  {
   "cell_type": "code",
   "execution_count": 54,
   "metadata": {},
   "outputs": [],
   "source": [
    "df = drop_columns(df)"
   ]
  },
  {
   "cell_type": "markdown",
   "metadata": {},
   "source": [
    "### カテゴリカル変数をone-hot値に変更する"
   ]
  },
  {
   "cell_type": "code",
   "execution_count": 55,
   "metadata": {},
   "outputs": [],
   "source": [
    "def to_onehot(df):\n",
    "    #カテゴリカル変数のリストを作成しまとめて削除する\n",
    "    dummies_columns_list = []\n",
    "\n",
    "    dummies_columns_list.extend(['競馬場コード','性別','毛色コード','東西所属コード',\n",
    "                            'ブリンカー仕様区分','グレードコード','競争種別コード','重量種別コード',\n",
    "                            '競争条件コード','芝ダート','回り方向','コース区分'])\n",
    "\n",
    "    #過去3走分データのカテゴリカル変数\n",
    "    pre_col = ['競馬場コード', 'ブリンカー仕様区分','異常区分コード','グレードコード'\n",
    "               ,'競争種別コード','重量種別コード','競争条件コード','芝ダート'\n",
    "               ,'回り方向','コース区分','天気コード','芝馬場','ダート馬場',]\n",
    "    for i in range(1,4):\n",
    "        for c in pre_col:\n",
    "            dummies_columns_list.append(c + '_'+str(i)+'走前')\n",
    "\n",
    "    df = pd.get_dummies(data = df,columns = dummies_columns_list)\n",
    "    \n",
    "    return df"
   ]
  },
  {
   "cell_type": "code",
   "execution_count": 56,
   "metadata": {},
   "outputs": [],
   "source": [
    "df = to_onehot(df)"
   ]
  },
  {
   "cell_type": "markdown",
   "metadata": {},
   "source": [
    "### 空値をカラムの[0,中央値,平均値]などで埋める"
   ]
  },
  {
   "cell_type": "code",
   "execution_count": 57,
   "metadata": {},
   "outputs": [],
   "source": [
    "def fill_nan(df):\n",
    "    #空値を0で埋める\n",
    "    df = df.fillna(0)\n",
    "\n",
    "    #空値を中央値で埋める\n",
    "    #df = df.fillna(df.median())\n",
    "\n",
    "    #空値を平均値で埋める\n",
    "    #df = df.fillna(df.mean())\n",
    "    \n",
    "    return df"
   ]
  },
  {
   "cell_type": "code",
   "execution_count": 58,
   "metadata": {},
   "outputs": [],
   "source": [
    "df = fill_nan(df)"
   ]
  },
  {
   "cell_type": "markdown",
   "metadata": {},
   "source": [
    "### 数値を正規化する(ニューラルネットの場合)"
   ]
  },
  {
   "cell_type": "code",
   "execution_count": 59,
   "metadata": {},
   "outputs": [],
   "source": [
    "def normalize(df):\n",
    "    for c in df.columns:\n",
    "        df[c] = scale(df[c].astype('float'))\n",
    "\n",
    "    return df"
   ]
  },
  {
   "cell_type": "code",
   "execution_count": 60,
   "metadata": {},
   "outputs": [],
   "source": [
    "df = normalize(df)"
   ]
  },
  {
   "cell_type": "markdown",
   "metadata": {},
   "source": [
    "### 予測用データの作成"
   ]
  },
  {
   "cell_type": "code",
   "execution_count": 61,
   "metadata": {},
   "outputs": [],
   "source": [
    "#numpy配列に変換\n",
    "x = df.values\n",
    "y = target_data.values"
   ]
  },
  {
   "cell_type": "markdown",
   "metadata": {},
   "source": [
    "### 訓練とテストにデータを分ける\n",
    "    分割割合はtest_sizeで指定"
   ]
  },
  {
   "cell_type": "code",
   "execution_count": 62,
   "metadata": {},
   "outputs": [],
   "source": [
    "data_train , data_test , target_train , target_test = train_test_split(x,y,test_size=0.2)"
   ]
  },
  {
   "cell_type": "markdown",
   "metadata": {},
   "source": [
    "## 4- 予測アルゴリズムの構築と精度検証"
   ]
  },
  {
   "cell_type": "markdown",
   "metadata": {},
   "source": [
    "### ランダムフォレスト(分類)"
   ]
  },
  {
   "cell_type": "code",
   "execution_count": 26,
   "metadata": {},
   "outputs": [
    {
     "data": {
      "text/plain": [
       "RandomForestClassifier(bootstrap=True, class_weight=None, criterion='gini',\n",
       "            max_depth=None, max_features='auto', max_leaf_nodes=None,\n",
       "            min_impurity_decrease=0.0, min_impurity_split=None,\n",
       "            min_samples_leaf=1, min_samples_split=2,\n",
       "            min_weight_fraction_leaf=0.0, n_estimators=10, n_jobs=1,\n",
       "            oob_score=False, random_state=0, verbose=0, warm_start=False)"
      ]
     },
     "execution_count": 26,
     "metadata": {},
     "output_type": "execute_result"
    }
   ],
   "source": [
    "forest_classifier = RandomForestClassifier(random_state=0)\n",
    "forest_classifier.fit(data_train, target_train)"
   ]
  },
  {
   "cell_type": "code",
   "execution_count": 27,
   "metadata": {},
   "outputs": [
    {
     "name": "stdout",
     "output_type": "stream",
     "text": [
      "Train score: 0.9825446581930608\n",
      "Test score: 0.7997767186225256\n"
     ]
    }
   ],
   "source": [
    "print('Train score: {}'.format(forest_classifier.score(data_train, target_train)))\n",
    "print('Test score: {}'.format(forest_classifier.score(data_test, target_test)))"
   ]
  },
  {
   "cell_type": "code",
   "execution_count": 28,
   "metadata": {},
   "outputs": [
    {
     "name": "stdout",
     "output_type": "stream",
     "text": [
      "target :  0 predict :  0\n",
      "target :  0 predict :  1\n",
      "target :  1 predict :  0\n",
      "target :  1 predict :  1\n",
      "target :  1 predict :  1\n",
      "target :  0 predict :  0\n",
      "target :  0 predict :  0\n",
      "target :  0 predict :  0\n",
      "target :  1 predict :  1\n",
      "target :  0 predict :  0\n"
     ]
    }
   ],
   "source": [
    "#テストデータの内10件の予測結果\n",
    "output = forest_classifier.predict(data_test)\n",
    "for (t,o) in zip(target_test[:10],output[:10]):\n",
    "    print('target : ',t,'predict : ',o)"
   ]
  },
  {
   "cell_type": "markdown",
   "metadata": {},
   "source": [
    "### ランダムフォレスト (回帰)"
   ]
  },
  {
   "cell_type": "code",
   "execution_count": null,
   "metadata": {},
   "outputs": [],
   "source": [
    "forest_regressor = RandomForestRegressor(min_samples_leaf=3, random_state=0)\n",
    "forest_regressor.fit(data_train, target_train)"
   ]
  },
  {
   "cell_type": "code",
   "execution_count": null,
   "metadata": {},
   "outputs": [],
   "source": [
    "print('Train score: {}'.format(forest_regressor.score(data_train, target_train)))\n",
    "print('Test score: {}'.format(forest_regressor.score(data_test, target_test)))"
   ]
  },
  {
   "cell_type": "code",
   "execution_count": null,
   "metadata": {},
   "outputs": [],
   "source": [
    "#テストデータの内10件の予測結果\n",
    "output = forest_regressor.predict(data_test)\n",
    "for (t,o) in zip(target_test[:10],output[:10]):\n",
    "    print('target : ',t,'predict : ',o)"
   ]
  },
  {
   "cell_type": "markdown",
   "metadata": {},
   "source": [
    "### ニューラルネット"
   ]
  },
  {
   "cell_type": "code",
   "execution_count": 63,
   "metadata": {},
   "outputs": [],
   "source": [
    "model = Sequential()\n",
    "model.add(Dense(400, input_dim=len(x[0])))\n",
    "model.add(Activation('relu'))\n",
    "model.add(Dropout(0.25))\n",
    "model.add(Dense(300))\n",
    "model.add(Activation('relu'))\n",
    "model.add(Dropout(0.25))\n",
    "model.add(Dense(200))\n",
    "model.add(Activation('relu'))\n",
    "model.add(Dropout(0.25))\n",
    "\n",
    "model.add(Dense(2))\n",
    "model.add(Activation('softmax'))\n",
    "model.compile(loss='binary_crossentropy',\n",
    "              optimizer='adam',\n",
    "              metrics=['accuracy'])"
   ]
  },
  {
   "cell_type": "code",
   "execution_count": 64,
   "metadata": {},
   "outputs": [],
   "source": [
    "target_train = to_categorical(target_train)\n",
    "target_test = to_categorical(target_test)"
   ]
  },
  {
   "cell_type": "code",
   "execution_count": 65,
   "metadata": {},
   "outputs": [
    {
     "name": "stdout",
     "output_type": "stream",
     "text": [
      "Train on 93152 samples, validate on 23289 samples\n",
      "Epoch 1/5\n",
      "93152/93152 [==============================] - 7s 74us/step - loss: 0.4447 - acc: 0.7925 - val_loss: 0.4309 - val_acc: 0.8002\n",
      "Epoch 2/5\n",
      "93152/93152 [==============================] - 6s 68us/step - loss: 0.4186 - acc: 0.8052 - val_loss: 0.4259 - val_acc: 0.8068\n",
      "Epoch 3/5\n",
      "93152/93152 [==============================] - 6s 65us/step - loss: 0.4136 - acc: 0.8093 - val_loss: 0.4216 - val_acc: 0.8057\n",
      "Epoch 4/5\n",
      "93152/93152 [==============================] - 7s 70us/step - loss: 0.4097 - acc: 0.8119 - val_loss: 0.4236 - val_acc: 0.8050\n",
      "Epoch 5/5\n",
      "93152/93152 [==============================] - 6s 66us/step - loss: 0.4076 - acc: 0.8137 - val_loss: 0.4216 - val_acc: 0.8060\n"
     ]
    },
    {
     "data": {
      "text/plain": [
       "<keras.callbacks.History at 0x1a234d6eb8>"
      ]
     },
     "execution_count": 65,
     "metadata": {},
     "output_type": "execute_result"
    }
   ],
   "source": [
    "model.fit(data_train, target_train, batch_size=100, epochs=5, verbose=1,validation_data= (data_test,target_test))"
   ]
  },
  {
   "cell_type": "code",
   "execution_count": null,
   "metadata": {},
   "outputs": [],
   "source": [
    "output = model.predict(data_test)"
   ]
  },
  {
   "cell_type": "code",
   "execution_count": null,
   "metadata": {},
   "outputs": [],
   "source": [
    "#テストデータの内10件の予測結果\n",
    "for (t,o) in zip(target_test[:10],output[:10]):\n",
    "    print('target : ',t,'predict : ',o)"
   ]
  },
  {
   "cell_type": "markdown",
   "metadata": {},
   "source": [
    "## 5- 本日の競馬の予測"
   ]
  },
  {
   "cell_type": "code",
   "execution_count": null,
   "metadata": {},
   "outputs": [],
   "source": [
    "#本日開催の競馬データの読み込み\n",
    "today_data = pd.read_csv('data/today_data.csv')"
   ]
  },
  {
   "cell_type": "code",
   "execution_count": null,
   "metadata": {},
   "outputs": [],
   "source": [
    "today_data = today_data[(today_data['競馬場コード'] == 6)&(today_data['レース番号'] == 11)]"
   ]
  },
  {
   "cell_type": "code",
   "execution_count": null,
   "metadata": {},
   "outputs": [],
   "source": [
    "#過去データの読み込み\n",
    "df = pd.read_csv('data/data_horse_race.csv')"
   ]
  },
  {
   "cell_type": "code",
   "execution_count": null,
   "metadata": {},
   "outputs": [],
   "source": [
    "#あとで予測対象データを取り出しやすいようindexを変更する\n",
    "today_data.index = [i+1000000 for i in range(len(today_data))]"
   ]
  },
  {
   "cell_type": "code",
   "execution_count": null,
   "metadata": {},
   "outputs": [],
   "source": [
    "#前処理のため過去データを連結する\n",
    "df = pd.concat([df,today_data])"
   ]
  },
  {
   "cell_type": "code",
   "execution_count": null,
   "metadata": {},
   "outputs": [],
   "source": [
    "#先ほど作った前処理関数\n",
    "df = preprocessing(df)\n",
    "df = drop_columns(df)\n",
    "df = to_onehot(df)\n",
    "df = fill_nan(df)\n",
    "df = normalize(df)"
   ]
  },
  {
   "cell_type": "code",
   "execution_count": null,
   "metadata": {},
   "outputs": [],
   "source": [
    "#予測対象データを取り出す\n",
    "df = df.ix[1000000:]"
   ]
  },
  {
   "cell_type": "code",
   "execution_count": null,
   "metadata": {},
   "outputs": [],
   "source": [
    "x = df.values"
   ]
  },
  {
   "cell_type": "markdown",
   "metadata": {},
   "source": [
    "## 予測結果の出力"
   ]
  },
  {
   "cell_type": "markdown",
   "metadata": {},
   "source": [
    "### ランダムフォレスト(分類)"
   ]
  },
  {
   "cell_type": "code",
   "execution_count": null,
   "metadata": {},
   "outputs": [],
   "source": [
    "#予測出力\n",
    "output = forest_classifier.predict(x)"
   ]
  },
  {
   "cell_type": "code",
   "execution_count": null,
   "metadata": {},
   "outputs": [],
   "source": [
    "print(ut.course(today_data.iloc[0]['競馬場コード']),today_data.iloc[0]['レース番号'],'R')\n",
    "for (t,o) in zip(today_data[['馬番','馬名']].values,output):\n",
    "    print(str(t[0])+'番\\t' + t[1] +'\\t' +str(o))"
   ]
  },
  {
   "cell_type": "markdown",
   "metadata": {},
   "source": [
    "### ランダムフォレスト(回帰)"
   ]
  },
  {
   "cell_type": "code",
   "execution_count": null,
   "metadata": {},
   "outputs": [],
   "source": [
    "#予測出力\n",
    "output = forest_regressor.predict(x)"
   ]
  },
  {
   "cell_type": "code",
   "execution_count": null,
   "metadata": {},
   "outputs": [],
   "source": [
    "print(ut.course(today_data.iloc[0]['競馬場コード']),today_data.iloc[0]['レース番号'],'R')\n",
    "for (t,o) in zip(today_data[['馬番','馬名']].values,output):\n",
    "    print(str(t[0])+'番\\t' + t[1] +'\\t' +str(o[1]))"
   ]
  },
  {
   "cell_type": "markdown",
   "metadata": {},
   "source": [
    "### ニューラルネット"
   ]
  },
  {
   "cell_type": "code",
   "execution_count": null,
   "metadata": {},
   "outputs": [],
   "source": [
    "#予測出力\n",
    "output = model.predict(x)"
   ]
  },
  {
   "cell_type": "code",
   "execution_count": null,
   "metadata": {
    "scrolled": true
   },
   "outputs": [],
   "source": [
    "print(ut.course(today_data.iloc[0]['競馬場コード']),today_data.iloc[0]['レース番号'],'R')\n",
    "for (t,o) in zip(today_data[['馬番','馬名']].values,output):\n",
    "    print(str(t[0])+'番\\t' + t[1] +'\\t' +str(o[1]))"
   ]
  },
  {
   "cell_type": "code",
   "execution_count": null,
   "metadata": {},
   "outputs": [],
   "source": []
  },
  {
   "cell_type": "code",
   "execution_count": null,
   "metadata": {},
   "outputs": [],
   "source": []
  }
 ],
 "metadata": {
  "kernelspec": {
   "display_name": "Python 3",
   "language": "python",
   "name": "python3"
  },
  "language_info": {
   "codemirror_mode": {
    "name": "ipython",
    "version": 3
   },
   "file_extension": ".py",
   "mimetype": "text/x-python",
   "name": "python",
   "nbconvert_exporter": "python",
   "pygments_lexer": "ipython3",
   "version": "3.6.4"
  }
 },
 "nbformat": 4,
 "nbformat_minor": 2
}
