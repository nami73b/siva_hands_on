{
 "cells": [
  {
   "cell_type": "markdown",
   "metadata": {},
   "source": [
    "# SIVA(シヴァ)AI競馬開発エンジニアによる<br>「競馬で始める機械学習」ハンズオン\n",
    "\n",
    "## 目標\n",
    "    ・競馬の過去データを使って、予測AIの作成手順を身につける。\n",
    "    ・前処理、アルゴリズムのチューニングによって予測精度を上げる手法を身につける。\n",
    "    ・各自作成した競馬予測AIを使って本日開催の競馬の予測を行う。\n",
    "\n",
    "## 本日の流れ\n",
    "    1- 必要ライブラリの読み込み\n",
    "    2- データの読み込み\n",
    "    3- 前処理\n",
    "    4- 予測アルゴリズムの構築\n",
    "    5- 本日の競馬の予測\n",
    "\n"
   ]
  },
  {
   "cell_type": "markdown",
   "metadata": {},
   "source": [
    "## 1- 必要ライブラリの読み込み"
   ]
  },
  {
   "cell_type": "code",
   "execution_count": null,
   "metadata": {},
   "outputs": [],
   "source": [
    "#データ解析ライブラリ\n",
    "import pandas as pd\n",
    "\n",
    "#数値計算ライブラリ\n",
    "import numpy as np\n",
    "\n",
    "#機械学習ライブラリ\n",
    "from sklearn.model_selection import train_test_split\n",
    "from sklearn.preprocessing import scale\n",
    "from sklearn.ensemble import RandomForestClassifier\n",
    "from sklearn.ensemble import RandomForestRegressor\n",
    "\n",
    "import util as ut\n",
    "import preprocessing as pr"
   ]
  },
  {
   "cell_type": "markdown",
   "metadata": {},
   "source": [
    "## 2- データの読み込み\n",
    "    2016年~2018年の3年分の過去データ(data_horse_race.csv)を読み込む"
   ]
  },
  {
   "cell_type": "code",
   "execution_count": null,
   "metadata": {},
   "outputs": [],
   "source": [
    "df = pd.read_csv('data/data_horse_race.csv')"
   ]
  },
  {
   "cell_type": "code",
   "execution_count": null,
   "metadata": {},
   "outputs": [],
   "source": [
    "for c in df.columns:\n",
    "    print(c,' : ',df.iloc[0][c],df[c].dtype)"
   ]
  },
  {
   "cell_type": "markdown",
   "metadata": {},
   "source": [
    "## 3- 前処理"
   ]
  },
  {
   "cell_type": "markdown",
   "metadata": {},
   "source": [
    "### 目的変数の作成\n",
    "    今回目的変数は[3着以下,3着以上]と設定する"
   ]
  },
  {
   "cell_type": "code",
   "execution_count": null,
   "metadata": {},
   "outputs": [],
   "source": [
    "#着順データを抽出する\n",
    "target_data = df['着順']"
   ]
  },
  {
   "cell_type": "code",
   "execution_count": null,
   "metadata": {
    "scrolled": true
   },
   "outputs": [],
   "source": [
    "target_data[:15]"
   ]
  },
  {
   "cell_type": "code",
   "execution_count": null,
   "metadata": {
    "scrolled": true
   },
   "outputs": [],
   "source": [
    "#着順がN着以内であれば1,3着以上であれば0に変換\n",
    "\n",
    "#分類分けの閾値を設定\n",
    "limit_order = 3\n",
    "\n",
    "target_data_in_three = target_data.apply(lambda x:1 if x <= limit_order else 0)"
   ]
  },
  {
   "cell_type": "code",
   "execution_count": null,
   "metadata": {
    "scrolled": true
   },
   "outputs": [],
   "source": [
    "target_data_in_three[:15]"
   ]
  },
  {
   "cell_type": "markdown",
   "metadata": {},
   "source": [
    "### カスタマイズ用関数\n",
    "    後ほど各々作成してもらいます"
   ]
  },
  {
   "cell_type": "code",
   "execution_count": null,
   "metadata": {},
   "outputs": [],
   "source": [
    "#カスタマイズ用前処理プログラム\n",
    "def preprocessing(df):\n",
    "    #make_yourself!!\n",
    "    return df"
   ]
  },
  {
   "cell_type": "code",
   "execution_count": null,
   "metadata": {},
   "outputs": [],
   "source": [
    "df_after_preprocessing = preprocessing(df)"
   ]
  },
  {
   "cell_type": "markdown",
   "metadata": {},
   "source": [
    "### 不要カラムを削除"
   ]
  },
  {
   "cell_type": "code",
   "execution_count": null,
   "metadata": {},
   "outputs": [],
   "source": [
    "def drop_columns(df):\n",
    "    #不要カラムのリストを作成しまとめて削除する\n",
    "    drop_columns_list = []\n",
    "\n",
    "    #馬を特定する情報を削除\n",
    "    drop_columns_list.extend(['血統番号','馬名'])\n",
    "\n",
    "    #レース前にわからないデータを削除リストに追加\n",
    "    drop_columns_list.extend(['着順','走破タイム','着差'])\n",
    "\n",
    "    #カテゴリデータであり種類が多いため、取捨選択をよく考える必要がある\n",
    "    drop_columns_list.extend(['騎手コード','騎手コード_1走前'])\n",
    "    \n",
    "    drop_columns_list.extend(['開催年'])\n",
    "\n",
    "\n",
    "    df = df.drop(drop_columns_list,axis = 1)\n",
    "    \n",
    "    return df"
   ]
  },
  {
   "cell_type": "code",
   "execution_count": null,
   "metadata": {},
   "outputs": [],
   "source": [
    "df_after_drop_columns = drop_columns(df_after_preprocessing)"
   ]
  },
  {
   "cell_type": "markdown",
   "metadata": {},
   "source": [
    "### カテゴリカル変数をone-hot値に変更する\n",
    "    カテゴリカルデータ : 順序性や等間隔性がないデータ\n",
    "    例\n",
    "    性別の以下のIDで表現した時\n",
    "    牡馬 : 1 ,牝馬 : 2 , セン馬 : 3\n",
    "    \n",
    "    牡馬 + 牝馬 = セン馬\n",
    "    \n",
    "    とならない。\n",
    "    \n",
    "\n",
    "    \n",
    "|馬名|性別|\n",
    "| ---- | ---- |\n",
    "|ディープインパクト|牡馬|\n",
    "|ジェンティルドンナ|牝馬|\n",
    "|カレンミロティック|セン馬|\n",
    "\n",
    "<div align = 'center'>\n",
    "    <br>\n",
    "    ↓\n",
    "</div>    \n",
    "\n",
    "|馬名|性別_牡馬|性別_牝馬|性別_セン馬|\n",
    "| ---- | ---- | ---- | ---- |\n",
    "|ディープインパクト|1|0|0|\n",
    "|ジェンティルドンナ|0|1|0|\n",
    "|カレンミロティック|0|0|1|\n",
    "\n",
    "\n",
    "\n",
    "\n",
    "   "
   ]
  },
  {
   "cell_type": "code",
   "execution_count": null,
   "metadata": {},
   "outputs": [],
   "source": [
    "def to_onehot(df):\n",
    "    #カテゴリカル変数のリストを作成しまとめてOne-hotベクトル化する\n",
    "    dummies_columns_list = []\n",
    "\n",
    "    dummies_columns_list.extend(['競馬場コード','性別','毛色コード','東西所属コード','芝ダート','回り方向'])\n",
    "\n",
    "    #過去1走分データのカテゴリカル変数\n",
    "    pre_col = ['競馬場コード','芝ダート','回り方向','天気コード','芝馬場','ダート馬場',]\n",
    "    for c in pre_col:\n",
    "        dummies_columns_list.append(c + '_1走前')\n",
    "\n",
    "    df = pd.get_dummies(data = df, columns = dummies_columns_list)\n",
    "    \n",
    "    return df"
   ]
  },
  {
   "cell_type": "code",
   "execution_count": null,
   "metadata": {},
   "outputs": [],
   "source": [
    "df_after_to_onehot = to_onehot(df_after_drop_columns)"
   ]
  },
  {
   "cell_type": "markdown",
   "metadata": {},
   "source": [
    "### 空値をカラムの[0,中央値,平均値]などで埋める"
   ]
  },
  {
   "cell_type": "code",
   "execution_count": null,
   "metadata": {},
   "outputs": [],
   "source": [
    "def fill_nan(df):\n",
    "    #空値を0で埋める\n",
    "    df = df.fillna(0)\n",
    "\n",
    "    #空値を中央値で埋める\n",
    "    #df = df.fillna(df.median())\n",
    "\n",
    "    #空値を平均値で埋める\n",
    "    #df = df.fillna(df.mean())\n",
    "    \n",
    "    return df"
   ]
  },
  {
   "cell_type": "code",
   "execution_count": null,
   "metadata": {},
   "outputs": [],
   "source": [
    "df_after_fill_nan = fill_nan(df_after_to_onehot)"
   ]
  },
  {
   "cell_type": "markdown",
   "metadata": {},
   "source": [
    "### 予測用データの作成"
   ]
  },
  {
   "cell_type": "code",
   "execution_count": null,
   "metadata": {},
   "outputs": [],
   "source": [
    "#入力用ベクトル生成\n",
    "x = df_after_fill_nan.values\n",
    "#目的変数生成\n",
    "y = target_data_in_three.values"
   ]
  },
  {
   "cell_type": "markdown",
   "metadata": {},
   "source": [
    "### 訓練とテストにデータを分ける\n",
    "    分割割合はtest_sizeで指定"
   ]
  },
  {
   "cell_type": "code",
   "execution_count": null,
   "metadata": {},
   "outputs": [],
   "source": [
    "data_train , data_test , target_train , target_test = train_test_split(x,y,test_size=0.2)"
   ]
  },
  {
   "cell_type": "markdown",
   "metadata": {},
   "source": [
    "## 4- 予測アルゴリズムの構築と精度検証"
   ]
  },
  {
   "cell_type": "markdown",
   "metadata": {},
   "source": [
    "### ランダムフォレスト(分類)"
   ]
  },
  {
   "cell_type": "code",
   "execution_count": null,
   "metadata": {},
   "outputs": [],
   "source": [
    "forest_classifier = RandomForestClassifier(random_state=0)\n",
    "forest_classifier.fit(data_train, target_train)"
   ]
  },
  {
   "cell_type": "code",
   "execution_count": null,
   "metadata": {},
   "outputs": [],
   "source": [
    "print('Train score: {}'.format(forest_classifier.score(data_train, target_train)))\n",
    "print('Test score: {}'.format(forest_classifier.score(data_test, target_test)))"
   ]
  },
  {
   "cell_type": "code",
   "execution_count": null,
   "metadata": {},
   "outputs": [],
   "source": [
    "#テストデータの内10件の予測結果\n",
    "output = forest_classifier.predict(data_test)\n",
    "for (t,o) in zip(target_test[:10],output[:10]):\n",
    "    print('target : ',t,'predict : ',o)"
   ]
  },
  {
   "cell_type": "markdown",
   "metadata": {},
   "source": [
    "### ランダムフォレスト (回帰)"
   ]
  },
  {
   "cell_type": "code",
   "execution_count": null,
   "metadata": {},
   "outputs": [],
   "source": [
    "forest_regressor = RandomForestRegressor(random_state=0)\n",
    "forest_regressor.fit(data_train, target_train)"
   ]
  },
  {
   "cell_type": "code",
   "execution_count": null,
   "metadata": {},
   "outputs": [],
   "source": [
    "print('Train score: {}'.format(forest_regressor.score(data_train, target_train)))\n",
    "print('Test score: {}'.format(forest_regressor.score(data_test, target_test)))"
   ]
  },
  {
   "cell_type": "code",
   "execution_count": null,
   "metadata": {},
   "outputs": [],
   "source": [
    "#テストデータの内10件の予測結果\n",
    "output = forest_regressor.predict(data_test)\n",
    "for (t,o) in zip(target_test[:10],output[:10]):\n",
    "    print('target : ',t,'predict : ',o)"
   ]
  },
  {
   "cell_type": "markdown",
   "metadata": {},
   "source": [
    "## 5- 本日の競馬の予測"
   ]
  },
  {
   "cell_type": "code",
   "execution_count": null,
   "metadata": {},
   "outputs": [],
   "source": [
    "#本日開催の競馬データの読み込み\n",
    "today_data = pd.read_csv('data/today_data.csv')"
   ]
  },
  {
   "cell_type": "code",
   "execution_count": null,
   "metadata": {},
   "outputs": [],
   "source": [
    "#先ほど作った前処理関数\n",
    "df = preprocessing(today_data)\n",
    "df = drop_columns(df)\n",
    "df = to_onehot(df)\n",
    "df = fill_nan(df)"
   ]
  },
  {
   "cell_type": "code",
   "execution_count": null,
   "metadata": {},
   "outputs": [],
   "source": [
    "#学習時と同様のカラムを持つデータフレームを作成\n",
    "df_ = pd.DataFrame([],columns = [c for c in df_after_fill_nan.columns])\n",
    "df = pd.concat([df_,df])[[c for c in df_after_fill_nan.columns]]\n",
    "df = df.fillna(0)"
   ]
  },
  {
   "cell_type": "code",
   "execution_count": null,
   "metadata": {},
   "outputs": [],
   "source": [
    "df"
   ]
  },
  {
   "cell_type": "code",
   "execution_count": null,
   "metadata": {},
   "outputs": [],
   "source": [
    "x = df.values"
   ]
  },
  {
   "cell_type": "markdown",
   "metadata": {},
   "source": [
    "## 予測結果の出力"
   ]
  },
  {
   "cell_type": "markdown",
   "metadata": {},
   "source": [
    "### ランダムフォレスト(分類)"
   ]
  },
  {
   "cell_type": "code",
   "execution_count": null,
   "metadata": {},
   "outputs": [],
   "source": [
    "#予測出力\n",
    "output = forest_classifier.predict(x)"
   ]
  },
  {
   "cell_type": "code",
   "execution_count": null,
   "metadata": {},
   "outputs": [],
   "source": [
    "print(ut.course(today_data.iloc[0]['競馬場コード']),today_data.iloc[0]['レース番号'],'R')\n",
    "for (t,o) in zip(today_data[['馬番','馬名']].values,output):\n",
    "    print(str(t[0])+'番\\t' + t[1] +'\\t' +str(o))"
   ]
  },
  {
   "cell_type": "markdown",
   "metadata": {},
   "source": [
    "### ランダムフォレスト(回帰)"
   ]
  },
  {
   "cell_type": "code",
   "execution_count": null,
   "metadata": {},
   "outputs": [],
   "source": [
    "#予測出力\n",
    "output = forest_regressor.predict(x)"
   ]
  },
  {
   "cell_type": "code",
   "execution_count": null,
   "metadata": {},
   "outputs": [],
   "source": [
    "print(ut.course(today_data.iloc[0]['競馬場コード']),today_data.iloc[0]['レース番号'],'R')\n",
    "for (t,o) in zip(today_data[['馬番','馬名']].values,output):\n",
    "    print(str(t[0])+'番\\t' + t[1] +'\\t' +str(o))"
   ]
  },
  {
   "cell_type": "code",
   "execution_count": null,
   "metadata": {},
   "outputs": [],
   "source": []
  }
 ],
 "metadata": {
  "kernelspec": {
   "display_name": "Python 3",
   "language": "python",
   "name": "python3"
  },
  "language_info": {
   "codemirror_mode": {
    "name": "ipython",
    "version": 3
   },
   "file_extension": ".py",
   "mimetype": "text/x-python",
   "name": "python",
   "nbconvert_exporter": "python",
   "pygments_lexer": "ipython3",
   "version": "3.6.4"
  }
 },
 "nbformat": 4,
 "nbformat_minor": 2
}
