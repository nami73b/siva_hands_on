{
 "cells": [
  {
   "cell_type": "markdown",
   "metadata": {},
   "source": [
    "# SIVA(シヴァ)AI競馬開発エンジニアによる<br>「競馬で始める機械学習」ハンズオン\n",
    "\n",
    "## 目標\n",
    "    ・競馬の過去データを使って、ランダムフォレストの予測モデルの作成手順を身につける。\n",
    "    ・前処理、アルゴリズムのチューニングによって予測精度を上げる手法を身につける。\n",
    "    ・各自作成した競馬予測AIを使って本日開催の競馬の予測を行う。\n",
    "\n",
    "## 本日の流れ\n",
    "    1- 必要ライブラリの読み込み\n",
    "    2- データの読み込み\n",
    "    3- 前処理\n",
    "    4- 予測アルゴリズムの構築\n",
    "    5- 予測モデルの検証\n",
    "    6- 本日の競馬の予測\n",
    "\n"
   ]
  },
  {
   "cell_type": "markdown",
   "metadata": {},
   "source": [
    "## 1- 必要ライブラリの読み込み"
   ]
  },
  {
   "cell_type": "code",
   "execution_count": null,
   "metadata": {},
   "outputs": [],
   "source": [
    "#データ解析ライブラリ\n",
    "import pandas as pd\n",
    "\n",
    "#数値計算ライブラリ\n",
    "import numpy as np\n",
    "import math\n",
    "\n",
    "#機械学習ライブラリ\n",
    "from sklearn.model_selection import train_test_split\n",
    "from sklearn.preprocessing import scale\n",
    "from sklearn.ensemble import RandomForestClassifier\n",
    "from sklearn.ensemble import RandomForestRegressor\n",
    "\n",
    "#日付操作ライブラリ\n",
    "import datetime\n",
    "\n",
    "import util as ut\n",
    "import preprocessing as pr"
   ]
  },
  {
   "cell_type": "markdown",
   "metadata": {},
   "source": [
    "## 2- データの読み込み\n",
    "    2016年~2018年の3年分の過去データ(data_horse_race.csv)を読み込む"
   ]
  },
  {
   "cell_type": "code",
   "execution_count": null,
   "metadata": {},
   "outputs": [],
   "source": [
    "df = pd.read_csv('data/data_train.csv')"
   ]
  },
  {
   "cell_type": "markdown",
   "metadata": {},
   "source": [
    "### データの中身を確認する\n",
    "    データの扱い方を検討するため、データの特徴を理解することが重要\n",
    "   　 ex) 数値なのかカテゴリなのか、外れ値はないか"
   ]
  },
  {
   "cell_type": "code",
   "execution_count": null,
   "metadata": {},
   "outputs": [],
   "source": [
    "for c in df.columns:\n",
    "    print(c, df[c].dtype, df[c].unique()[:10])"
   ]
  },
  {
   "cell_type": "markdown",
   "metadata": {},
   "source": [
    "## 3- 前処理"
   ]
  },
  {
   "cell_type": "markdown",
   "metadata": {},
   "source": [
    "### 目的変数の作成\n",
    "    今回目的変数は[3着以下,3着以上]と設定する"
   ]
  },
  {
   "cell_type": "code",
   "execution_count": null,
   "metadata": {},
   "outputs": [],
   "source": [
    "#着順データを抽出する\n",
    "target_data = df['着順']"
   ]
  },
  {
   "cell_type": "code",
   "execution_count": null,
   "metadata": {
    "scrolled": true
   },
   "outputs": [],
   "source": [
    "target_data[:15]"
   ]
  },
  {
   "cell_type": "markdown",
   "metadata": {},
   "source": [
    "### チューニング 前処理編 [例1]"
   ]
  },
  {
   "cell_type": "code",
   "execution_count": null,
   "metadata": {
    "scrolled": true
   },
   "outputs": [],
   "source": [
    "#着順がN着以内であれば1,3着以上であれば0に変換\n",
    "\n",
    "#分類分けの閾値を設定\n",
    "limit_order = 3\n",
    "\n",
    "target_data_in_three = target_data.apply(lambda x:1 if x <= limit_order else 0)"
   ]
  },
  {
   "cell_type": "code",
   "execution_count": null,
   "metadata": {
    "scrolled": false
   },
   "outputs": [],
   "source": [
    "target_data_in_three[:15]"
   ]
  },
  {
   "cell_type": "markdown",
   "metadata": {},
   "source": [
    "### カスタマイズ用関数\n",
    "    後ほど各々作成してもらいます"
   ]
  },
  {
   "cell_type": "code",
   "execution_count": null,
   "metadata": {},
   "outputs": [],
   "source": [
    "#カスタマイズ用前処理プログラム\n",
    "def preprocessing(df):\n",
    "    #チューニング特徴量編[例2]\n",
    "    #走破タイム_(1-3)走前カラムを「分.秒.コンマ秒」→「秒」に変換\n",
    "    #df['走破タイム_1走前']  = {make_yourself!!}\n",
    "    #df['走破タイム_2走前'] = {make_yourself!!}\n",
    "    #df['走破タイム_3走前'] = {make_yourself!!}\n",
    "    \n",
    "    #チューニング特徴量編[例3]\n",
    "    #開催日付ファクタを月と日付に分割する\n",
    "    #df['開催月'] = {make_yourself!!}\n",
    "    #df['開催日付'] = {make_yourself!!}\n",
    "    \n",
    "    #チューニング特徴量編[例4]\n",
    "    #前走からの経過日数を計算する\n",
    "    #df['前走間隔'] = {make_yourself!!}\n",
    "    \n",
    "    #チューニング特徴量編[例4]\n",
    "    #開催月,開催日付を三角関数で表現する\n",
    "    #df['開催月_sin'] = {make_yourself!!}\n",
    "    #df['開催月_cos'] = {make_yourself!!}\n",
    "    #df['開催日付_sin'] = {make_yourself!!}\n",
    "    #df['開催日付_cos'] = {make_yourself!!}\n",
    "    \n",
    "\n",
    "    return df"
   ]
  },
  {
   "cell_type": "code",
   "execution_count": null,
   "metadata": {},
   "outputs": [],
   "source": [
    "df_after_preprocessing = preprocessing(df)"
   ]
  },
  {
   "cell_type": "markdown",
   "metadata": {},
   "source": [
    "### 不要カラムを削除"
   ]
  },
  {
   "cell_type": "code",
   "execution_count": null,
   "metadata": {},
   "outputs": [],
   "source": [
    "def drop_columns(df):\n",
    "    #不要カラムのリストを作成しまとめて削除する\n",
    "    drop_columns_list = []\n",
    "\n",
    "    #馬を特定する情報を削除\n",
    "    drop_columns_list.extend(['馬コード'])\n",
    "\n",
    "    #結果データを削除\n",
    "    drop_columns_list.extend(['着順','走破タイム','着差'])\n",
    "\n",
    "    #チューニング特徴量編[例1]\n",
    "    #カテゴリデータであり種類が多いため、取捨選択をよく考える必要がある\n",
    "    #drop_columns_list.extend(['騎手コード'])\n",
    "    \n",
    "    #予測時に再現されない特徴のため削除(2017年は二度と来ない)\n",
    "    drop_columns_list.extend(['開催年'])\n",
    "    drop_columns_list.extend(['開催年_'+str(i)+'走前' for i in range(1,4)])\n",
    "\n",
    "    #過去走破タイムデータは「分.秒.コンマ秒」→「秒」などに変換する必要がある\n",
    "    drop_columns_list.extend(['走破タイム_'+str(i)+'走前' for i in range(1,4)])\n",
    "    \n",
    "    df = df.drop(drop_columns_list,axis = 1)\n",
    "    \n",
    "    return df"
   ]
  },
  {
   "cell_type": "code",
   "execution_count": null,
   "metadata": {},
   "outputs": [],
   "source": [
    "df_after_drop_columns = drop_columns(df_after_preprocessing)"
   ]
  },
  {
   "cell_type": "markdown",
   "metadata": {},
   "source": [
    "### カテゴリカル変数をone-hot値に変更する\n",
    "    カテゴリカルデータ : 順序性や等間隔性がないデータ\n",
    "    例\n",
    "    性別の以下のIDで表現した時\n",
    "    牡馬 : 1 ,牝馬 : 2 , セン馬 : 3\n",
    "    \n",
    "    牡馬 + 牝馬 = セン馬\n",
    "    \n",
    "    とならない。\n",
    "    \n",
    "\n",
    "    \n",
    "|馬名|性別|\n",
    "| ---- | ---- |\n",
    "|ディープインパクト|牡馬|\n",
    "|ジェンティルドンナ|牝馬|\n",
    "|カレンミロティック|セン馬|\n",
    "\n",
    "<div align = 'center'>\n",
    "    <br>\n",
    "    ↓\n",
    "</div>    \n",
    "\n",
    "|馬名|性別_牡馬|性別_牝馬|性別_セン馬|\n",
    "| ---- | ---- | ---- | ---- |\n",
    "|ディープインパクト|1|0|0|\n",
    "|ジェンティルドンナ|0|1|0|\n",
    "|カレンミロティック|0|0|1|\n",
    "\n",
    "\n",
    "\n",
    "\n",
    "   "
   ]
  },
  {
   "cell_type": "code",
   "execution_count": null,
   "metadata": {},
   "outputs": [],
   "source": [
    "def to_onehot(df):\n",
    "    #カテゴリカル変数のリストを作成しまとめてOne-hotベクトル化する\n",
    "    dummies_columns_list = []\n",
    "\n",
    "    dummies_columns_list.extend(['コースコード', '性別', '毛色', '東西所属コード',\\\n",
    "                                     '騎手コード', '騎手東西所属コード', 'ブリンカーフラグ', 'グレードコード',\\\n",
    "                                     'ハンデ条件', 'トラックコード', '年齢条件', '競争条件', '競争記号',\\\n",
    "                                ])\n",
    "\n",
    "    #過去1走分データのカテゴリカル変数\n",
    "    pre_col = ['年齢条件', '競争条件', 'ハンデ条件', '競争記号', '芝ダート', 'グレードコード',\\\n",
    "               '天気', '馬場状態', 'ブリンカーフラグ']\n",
    "    for c in pre_col:\n",
    "        dummies_columns_list.append(c + '_1走前')\n",
    "        dummies_columns_list.append(c + '_2走前')\n",
    "        dummies_columns_list.append(c + '_3走前')\n",
    "\n",
    "    df = pd.get_dummies(data = df, columns = dummies_columns_list)\n",
    "    \n",
    "    return df"
   ]
  },
  {
   "cell_type": "code",
   "execution_count": null,
   "metadata": {},
   "outputs": [],
   "source": [
    "df_after_to_onehot = to_onehot(df_after_drop_columns)"
   ]
  },
  {
   "cell_type": "code",
   "execution_count": null,
   "metadata": {},
   "outputs": [],
   "source": [
    "for c in df_after_to_onehot.columns:\n",
    "    print(c)"
   ]
  },
  {
   "cell_type": "markdown",
   "metadata": {},
   "source": [
    "### 空値をカラムの[0,中央値,平均値]などで埋める\n",
    "### チューニング 前処理編[例2]"
   ]
  },
  {
   "cell_type": "code",
   "execution_count": null,
   "metadata": {},
   "outputs": [],
   "source": [
    "def fill_nan(df):\n",
    "    #空値を0で埋める\n",
    "    df = df.fillna(0)\n",
    "\n",
    "    #空値を中央値で埋める\n",
    "    #df = df.fillna(df.median())\n",
    "\n",
    "    #空値を平均値で埋める\n",
    "    #df = df.fillna(df.mean())\n",
    "    \n",
    "    return df"
   ]
  },
  {
   "cell_type": "code",
   "execution_count": null,
   "metadata": {},
   "outputs": [],
   "source": [
    "df_after_fill_nan = fill_nan(df_after_to_onehot)"
   ]
  },
  {
   "cell_type": "markdown",
   "metadata": {},
   "source": [
    "### 予測用データの作成"
   ]
  },
  {
   "cell_type": "code",
   "execution_count": null,
   "metadata": {},
   "outputs": [],
   "source": [
    "#入力用ベクトル生成\n",
    "x = df_after_fill_nan.values\n",
    "#目的変数生成\n",
    "y = target_data_in_three.values"
   ]
  },
  {
   "cell_type": "markdown",
   "metadata": {},
   "source": [
    "### 訓練とテストにデータを分ける\n",
    "    分割割合はtest_sizeで指定"
   ]
  },
  {
   "cell_type": "code",
   "execution_count": null,
   "metadata": {},
   "outputs": [],
   "source": [
    "data_train , data_test , target_train , target_test = train_test_split(x,y,test_size=0.2)"
   ]
  },
  {
   "cell_type": "markdown",
   "metadata": {},
   "source": [
    "## 4- 予測アルゴリズムの構築と精度検証"
   ]
  },
  {
   "cell_type": "markdown",
   "metadata": {},
   "source": [
    "### ランダムフォレスト(分類)"
   ]
  },
  {
   "cell_type": "code",
   "execution_count": null,
   "metadata": {},
   "outputs": [],
   "source": [
    "forest_classifier = RandomForestClassifier(random_state=0)\n",
    "forest_classifier.fit(data_train, target_train)"
   ]
  },
  {
   "cell_type": "code",
   "execution_count": null,
   "metadata": {},
   "outputs": [],
   "source": [
    "print('Train score: {}'.format(forest_classifier.score(data_train, target_train)))\n",
    "print('Test score: {}'.format(forest_classifier.score(data_test, target_test)))"
   ]
  },
  {
   "cell_type": "code",
   "execution_count": null,
   "metadata": {},
   "outputs": [],
   "source": [
    "#テストデータの内10件の予測結果\n",
    "output = forest_classifier.predict(data_test)\n",
    "for (t,o) in zip(target_test[:10],output[:10]):\n",
    "    print('target : ',t,'predict : ',o)"
   ]
  },
  {
   "cell_type": "code",
   "execution_count": null,
   "metadata": {},
   "outputs": [],
   "source": [
    "#ファクターの重要度\n",
    "importance = []\n",
    "for (c,i) in zip(df_after_fill_nan.columns,forest_classifier.feature_importances_):\n",
    "    importance.append([c,i])\n",
    "importance.sort(key = lambda x:x[1],reverse = True)"
   ]
  },
  {
   "cell_type": "code",
   "execution_count": null,
   "metadata": {},
   "outputs": [],
   "source": [
    "importance"
   ]
  },
  {
   "cell_type": "markdown",
   "metadata": {},
   "source": [
    "### ランダムフォレスト (回帰)"
   ]
  },
  {
   "cell_type": "code",
   "execution_count": null,
   "metadata": {},
   "outputs": [],
   "source": [
    "forest_regressor = RandomForestRegressor(random_state=0)\n",
    "forest_regressor.fit(data_train, target_train)"
   ]
  },
  {
   "cell_type": "code",
   "execution_count": null,
   "metadata": {},
   "outputs": [],
   "source": [
    "print('Train score: {}'.format(forest_regressor.score(data_train, target_train)))\n",
    "print('Test score: {}'.format(forest_regressor.score(data_test, target_test)))"
   ]
  },
  {
   "cell_type": "code",
   "execution_count": null,
   "metadata": {},
   "outputs": [],
   "source": [
    "#テストデータの内10件の予測結果\n",
    "output = forest_regressor.predict(data_test)\n",
    "for (t,o) in zip(target_test[:10],output[:10]):\n",
    "    print('target : ',t,'predict : ',o)"
   ]
  },
  {
   "cell_type": "code",
   "execution_count": null,
   "metadata": {},
   "outputs": [],
   "source": [
    "#ファクターの重要度\n",
    "importance = []\n",
    "for (c,i) in zip(df_after_fill_nan.columns,forest_regressor.feature_importances_):\n",
    "    importance.append([c,i])\n",
    "importance.sort(key = lambda x:x[1],reverse = True)"
   ]
  },
  {
   "cell_type": "code",
   "execution_count": null,
   "metadata": {},
   "outputs": [],
   "source": [
    "importance"
   ]
  },
  {
   "cell_type": "markdown",
   "metadata": {},
   "source": [
    "## 5- 予測モデルの検証(対テストデータ)"
   ]
  },
  {
   "cell_type": "code",
   "execution_count": null,
   "metadata": {},
   "outputs": [],
   "source": [
    "#本日開催の競馬データの読み込み\n",
    "df_test = pd.read_csv('data/data_test.csv')"
   ]
  },
  {
   "cell_type": "code",
   "execution_count": null,
   "metadata": {},
   "outputs": [],
   "source": [
    "#先ほど作った前処理関数\n",
    "df = preprocessing(df_test)\n",
    "df = drop_columns(df)\n",
    "df = to_onehot(df)\n",
    "df = fill_nan(df)"
   ]
  },
  {
   "cell_type": "code",
   "execution_count": null,
   "metadata": {},
   "outputs": [],
   "source": [
    "#学習時と同様のカラムを持つデータフレームを作成\n",
    "df_ = pd.DataFrame([],columns = [c for c in df_after_fill_nan.columns])\n",
    "df = pd.concat([df_,df])[[c for c in df_after_fill_nan.columns]]\n",
    "df = df.fillna(0)"
   ]
  },
  {
   "cell_type": "code",
   "execution_count": null,
   "metadata": {},
   "outputs": [],
   "source": [
    "x = df.values"
   ]
  },
  {
   "cell_type": "markdown",
   "metadata": {},
   "source": [
    "### ランダムフォレスト(分類)"
   ]
  },
  {
   "cell_type": "code",
   "execution_count": null,
   "metadata": {},
   "outputs": [],
   "source": [
    "#予測出力\n",
    "output = forest_classifier.predict(x)"
   ]
  },
  {
   "cell_type": "code",
   "execution_count": null,
   "metadata": {},
   "outputs": [],
   "source": [
    "result = [out==correct for out,correct in zip(output, df_test['着順'].apply(lambda x:1 if x <= 1 else 0))]\n"
   ]
  },
  {
   "cell_type": "code",
   "execution_count": null,
   "metadata": {},
   "outputs": [],
   "source": [
    "#Accuracy\n",
    "result.count(True)/len(result)"
   ]
  },
  {
   "cell_type": "markdown",
   "metadata": {},
   "source": [
    "### ランダムフォレスト(回帰)"
   ]
  },
  {
   "cell_type": "code",
   "execution_count": null,
   "metadata": {},
   "outputs": [],
   "source": [
    "#予測出力\n",
    "output = forest_regressor.predict(x)"
   ]
  },
  {
   "cell_type": "code",
   "execution_count": null,
   "metadata": {},
   "outputs": [],
   "source": [
    "result = [(out-correct)**2 for out,correct in zip(output, df_test['着順'].apply(lambda x:1 if x <= 1 else 0))]"
   ]
  },
  {
   "cell_type": "code",
   "execution_count": null,
   "metadata": {},
   "outputs": [],
   "source": [
    "# RMSE(平均2乗誤差)\n",
    "math.sqrt(sum(result)/len(result))"
   ]
  },
  {
   "cell_type": "markdown",
   "metadata": {},
   "source": [
    "## 6- 本日の競馬の予測"
   ]
  },
  {
   "cell_type": "code",
   "execution_count": null,
   "metadata": {},
   "outputs": [],
   "source": [
    "#本日開催の競馬データの読み込み\n",
    "#函館\n",
    "#today_data = pd.read_csv('data/data_today_hakodate_11r.csv')\n",
    "#horse_name = pd.read_csv('data/horse_name_hakodate_11r.csv')\n",
    "#中京\n",
    "today_data = pd.read_csv('data/data_today_tyukyo_11r.csv')\n",
    "horse_name = pd.read_csv('data/horse_name_tyukyo_11r.csv')\n",
    "#福島\n",
    "#today_data = pd.read_csv('data/data_today_fukushima_11r.csv')\n",
    "#horse_name = pd.read_csv('data/horse_name_fukushima_11r.csv')"
   ]
  },
  {
   "cell_type": "code",
   "execution_count": null,
   "metadata": {},
   "outputs": [],
   "source": [
    "#先ほど作った前処理関数\n",
    "df = preprocessing(today_data)\n",
    "df = drop_columns(df)\n",
    "df = to_onehot(df)\n",
    "df = fill_nan(df)"
   ]
  },
  {
   "cell_type": "code",
   "execution_count": null,
   "metadata": {},
   "outputs": [],
   "source": [
    "#学習時と同様のカラムを持つデータフレームを作成\n",
    "df_ = pd.DataFrame([],columns = [c for c in df_after_fill_nan.columns])\n",
    "df = pd.concat([df_,df])[[c for c in df_after_fill_nan.columns]]\n",
    "df = df.fillna(0)"
   ]
  },
  {
   "cell_type": "code",
   "execution_count": null,
   "metadata": {},
   "outputs": [],
   "source": [
    "x = df.values"
   ]
  },
  {
   "cell_type": "markdown",
   "metadata": {},
   "source": [
    "## 予測結果の出力"
   ]
  },
  {
   "cell_type": "markdown",
   "metadata": {},
   "source": [
    "### ランダムフォレスト(分類)"
   ]
  },
  {
   "cell_type": "code",
   "execution_count": null,
   "metadata": {},
   "outputs": [],
   "source": [
    "#予測出力\n",
    "output_classifier = forest_classifier.predict(x)"
   ]
  },
  {
   "cell_type": "markdown",
   "metadata": {},
   "source": [
    "### ランダムフォレスト(回帰)"
   ]
  },
  {
   "cell_type": "code",
   "execution_count": null,
   "metadata": {},
   "outputs": [],
   "source": [
    "#予測出力\n",
    "output_regressor = forest_regressor.predict(x)"
   ]
  },
  {
   "cell_type": "code",
   "execution_count": null,
   "metadata": {},
   "outputs": [],
   "source": [
    "print(ut.course(today_data.ix[0]['コースコード']),today_data.ix[0]['レース番号'],'R')\n",
    "for i, out_c, out_r in zip(range(len(horse_name)), output_classifier, output_regressor):\n",
    "    print(str(horse_name.ix[i]['horse_number'])+'番\\t'+horse_name.ix[i]['name']+'\\t分類器: '+str(out_c)+'\\t回帰: '+str(out_r)+'\\t予測順位: '+ str(np.where(np.argsort(output_regressor)[::-1] == i)[0][0]+1))\n",
    "    "
   ]
  },
  {
   "cell_type": "code",
   "execution_count": null,
   "metadata": {},
   "outputs": [],
   "source": []
  }
 ],
 "metadata": {
  "kernelspec": {
   "display_name": "Python 3",
   "language": "python",
   "name": "python3"
  },
  "language_info": {
   "codemirror_mode": {
    "name": "ipython",
    "version": 3
   },
   "file_extension": ".py",
   "mimetype": "text/x-python",
   "name": "python",
   "nbconvert_exporter": "python",
   "pygments_lexer": "ipython3",
   "version": "3.6.4"
  }
 },
 "nbformat": 4,
 "nbformat_minor": 2
}
